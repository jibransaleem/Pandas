{
  "nbformat": 4,
  "nbformat_minor": 0,
  "metadata": {
    "colab": {
      "provenance": []
    },
    "kernelspec": {
      "name": "python3",
      "display_name": "Python 3"
    },
    "language_info": {
      "name": "python"
    }
  },
  "cells": [
    {
      "cell_type": "code",
      "execution_count": 1,
      "metadata": {
        "id": "RYqKmDeTq4bI"
      },
      "outputs": [],
      "source": [
        "import numpy as np\n",
        "import pandas as pd"
      ]
    },
    {
      "cell_type": "markdown",
      "source": [],
      "metadata": {
        "id": "MBquISGXq876"
      }
    },
    {
      "cell_type": "code",
      "source": [
        "data = {\n",
        "    'name' : \"jibran\",\n",
        "    \"age \" : 20,\n",
        "    \"semsiter \": 3,\n",
        "    \"university\" : \"Ned\",\n",
        "    \"father \" :\"saleem\",\n",
        "    'mother': \"Nisha\",\n",
        "    \"sister\" : \"Samar\",\n",
        "    \"birthday\"  : \"29 of Jan\"\n",
        "}\n",
        "d = pd.Series(data)"
      ],
      "metadata": {
        "id": "DA6PEhWMrgdK"
      },
      "execution_count": 6,
      "outputs": []
    },
    {
      "cell_type": "markdown",
      "source": [
        "HEAD AND TAIL\n",
        "\n",
        "\n",
        "In pandas, head() and tail() are methods used to view the first or last few rows of a DataFrame or Series. They are especially useful for quickly inspecting data, especially when working with large datasets.\n",
        "\n",
        "\n"
      ],
      "metadata": {
        "id": "8vXY6pzNsie8"
      }
    },
    {
      "cell_type": "markdown",
      "source": [
        "head()\n",
        "\n",
        "Returns the first n rows of a DataFrame or Series.\n",
        "\n",
        "\n",
        "By default, it returns the first 5 rows."
      ],
      "metadata": {
        "id": "-vgt3Ay2sqYD"
      }
    },
    {
      "cell_type": "code",
      "source": [
        "print(d.head())\n",
        "print(d.head(4))"
      ],
      "metadata": {
        "colab": {
          "base_uri": "https://localhost:8080/"
        },
        "id": "NCbMHvZhrxV4",
        "outputId": "c65c8514-d02d-4c6f-fe98-eee9bc175a61"
      },
      "execution_count": 13,
      "outputs": [
        {
          "output_type": "stream",
          "name": "stdout",
          "text": [
            "name          jibran\n",
            "age               20\n",
            "semsiter           3\n",
            "university       Ned\n",
            "father        saleem\n",
            "dtype: object\n",
            "name          jibran\n",
            "age               20\n",
            "semsiter           3\n",
            "university       Ned\n",
            "dtype: object\n"
          ]
        }
      ]
    },
    {
      "cell_type": "code",
      "source": [
        "print(d.tail())\n",
        "print(d.tail(d.size))"
      ],
      "metadata": {
        "colab": {
          "base_uri": "https://localhost:8080/"
        },
        "id": "XowzPdtltSAI",
        "outputId": "46240c0c-b83c-4e0d-eb81-1b0bdff75026"
      },
      "execution_count": 16,
      "outputs": [
        {
          "output_type": "stream",
          "name": "stdout",
          "text": [
            "university          Ned\n",
            "father           saleem\n",
            "mother            Nisha\n",
            "sister            Samar\n",
            "birthday      29 of Jan\n",
            "dtype: object\n",
            "name             jibran\n",
            "age                  20\n",
            "semsiter              3\n",
            "university          Ned\n",
            "father           saleem\n",
            "mother            Nisha\n",
            "sister            Samar\n",
            "birthday      29 of Jan\n",
            "dtype: object\n"
          ]
        }
      ]
    },
    {
      "cell_type": "markdown",
      "source": [
        "Sample\n",
        "\n",
        "In pandas, the sample() method is used to randomly sample a specified number of rows from a DataFrame or Series. This is useful when you want to quickly select a subset of your data for testing, analysis, or to get a quick glimpse of your data in a randomized order."
      ],
      "metadata": {
        "id": "AqZcBdGAt1G0"
      }
    },
    {
      "cell_type": "code",
      "source": [
        "d.sample()\n",
        "#take optional argument n  to return n of random rows, but by default return only 1 random row"
      ],
      "metadata": {
        "colab": {
          "base_uri": "https://localhost:8080/",
          "height": 115
        },
        "id": "U1NmBSrkuFsv",
        "outputId": "f1004434-35dd-44f3-f08c-5913d0279f68"
      },
      "execution_count": 23,
      "outputs": [
        {
          "output_type": "execute_result",
          "data": {
            "text/plain": [
              "father     saleem\n",
              "dtype: object"
            ],
            "text/html": [
              "<div>\n",
              "<style scoped>\n",
              "    .dataframe tbody tr th:only-of-type {\n",
              "        vertical-align: middle;\n",
              "    }\n",
              "\n",
              "    .dataframe tbody tr th {\n",
              "        vertical-align: top;\n",
              "    }\n",
              "\n",
              "    .dataframe thead th {\n",
              "        text-align: right;\n",
              "    }\n",
              "</style>\n",
              "<table border=\"1\" class=\"dataframe\">\n",
              "  <thead>\n",
              "    <tr style=\"text-align: right;\">\n",
              "      <th></th>\n",
              "      <th>0</th>\n",
              "    </tr>\n",
              "  </thead>\n",
              "  <tbody>\n",
              "    <tr>\n",
              "      <th>father</th>\n",
              "      <td>saleem</td>\n",
              "    </tr>\n",
              "  </tbody>\n",
              "</table>\n",
              "</div><br><label><b>dtype:</b> object</label>"
            ]
          },
          "metadata": {},
          "execution_count": 23
        }
      ]
    },
    {
      "cell_type": "markdown",
      "source": [
        "**value_counts**\n",
        "\n",
        "In pandas, the value_counts() method is used to count the unique values in a Series and return them as a frequency count. It is very useful when you want to know how many times each unique value appears in a column (or Series).\n",
        "\n",
        "return the count in decending order i.e 10 9 8 7.."
      ],
      "metadata": {
        "id": "Wh3XL5oQub1y"
      }
    },
    {
      "cell_type": "code",
      "source": [
        "d.value_counts()"
      ],
      "metadata": {
        "colab": {
          "base_uri": "https://localhost:8080/",
          "height": 335
        },
        "id": "YtrUkf5RvrLa",
        "outputId": "8ac96c32-2b2d-4bfd-ac9c-d27697d996f4"
      },
      "execution_count": 24,
      "outputs": [
        {
          "output_type": "execute_result",
          "data": {
            "text/plain": [
              "jibran       1\n",
              "20           1\n",
              "3            1\n",
              "Ned          1\n",
              "saleem       1\n",
              "Nisha        1\n",
              "Samar        1\n",
              "29 of Jan    1\n",
              "Name: count, dtype: int64"
            ],
            "text/html": [
              "<div>\n",
              "<style scoped>\n",
              "    .dataframe tbody tr th:only-of-type {\n",
              "        vertical-align: middle;\n",
              "    }\n",
              "\n",
              "    .dataframe tbody tr th {\n",
              "        vertical-align: top;\n",
              "    }\n",
              "\n",
              "    .dataframe thead th {\n",
              "        text-align: right;\n",
              "    }\n",
              "</style>\n",
              "<table border=\"1\" class=\"dataframe\">\n",
              "  <thead>\n",
              "    <tr style=\"text-align: right;\">\n",
              "      <th></th>\n",
              "      <th>count</th>\n",
              "    </tr>\n",
              "  </thead>\n",
              "  <tbody>\n",
              "    <tr>\n",
              "      <th>jibran</th>\n",
              "      <td>1</td>\n",
              "    </tr>\n",
              "    <tr>\n",
              "      <th>20</th>\n",
              "      <td>1</td>\n",
              "    </tr>\n",
              "    <tr>\n",
              "      <th>3</th>\n",
              "      <td>1</td>\n",
              "    </tr>\n",
              "    <tr>\n",
              "      <th>Ned</th>\n",
              "      <td>1</td>\n",
              "    </tr>\n",
              "    <tr>\n",
              "      <th>saleem</th>\n",
              "      <td>1</td>\n",
              "    </tr>\n",
              "    <tr>\n",
              "      <th>Nisha</th>\n",
              "      <td>1</td>\n",
              "    </tr>\n",
              "    <tr>\n",
              "      <th>Samar</th>\n",
              "      <td>1</td>\n",
              "    </tr>\n",
              "    <tr>\n",
              "      <th>29 of Jan</th>\n",
              "      <td>1</td>\n",
              "    </tr>\n",
              "  </tbody>\n",
              "</table>\n",
              "</div><br><label><b>dtype:</b> int64</label>"
            ]
          },
          "metadata": {},
          "execution_count": 24
        }
      ]
    },
    {
      "cell_type": "markdown",
      "source": [
        "**sort_values()**\n",
        "\n",
        "it does not sort orignal data\n",
        "\n",
        "\n",
        "In pandas, the sort_values() method is used to sort the rows of a DataFrame or Series by the values of one or more columns. It provides an easy way to arrange your data in either ascending or descending order."
      ],
      "metadata": {
        "id": "gI2TsSU0wbIy"
      }
    },
    {
      "cell_type": "code",
      "source": [
        "marks = {\n",
        "    \"maths\" : 100,\n",
        "    \"chem\"  : 40,\n",
        "    \"Eng\" : 29,\n",
        "    \"dld\" : 50\n",
        "}\n",
        "m = pd.Series(marks)\n",
        "m.sort_values()\n",
        "\n",
        "#printing in decending\n",
        "m.sort_values(ascending=False)"
      ],
      "metadata": {
        "colab": {
          "base_uri": "https://localhost:8080/",
          "height": 209
        },
        "id": "xKMlcSS1wRb7",
        "outputId": "84926b87-e38b-4093-bd40-9b3744fb50a1"
      },
      "execution_count": 27,
      "outputs": [
        {
          "output_type": "execute_result",
          "data": {
            "text/plain": [
              "maths    100\n",
              "dld       50\n",
              "chem      40\n",
              "Eng       29\n",
              "dtype: int64"
            ],
            "text/html": [
              "<div>\n",
              "<style scoped>\n",
              "    .dataframe tbody tr th:only-of-type {\n",
              "        vertical-align: middle;\n",
              "    }\n",
              "\n",
              "    .dataframe tbody tr th {\n",
              "        vertical-align: top;\n",
              "    }\n",
              "\n",
              "    .dataframe thead th {\n",
              "        text-align: right;\n",
              "    }\n",
              "</style>\n",
              "<table border=\"1\" class=\"dataframe\">\n",
              "  <thead>\n",
              "    <tr style=\"text-align: right;\">\n",
              "      <th></th>\n",
              "      <th>0</th>\n",
              "    </tr>\n",
              "  </thead>\n",
              "  <tbody>\n",
              "    <tr>\n",
              "      <th>maths</th>\n",
              "      <td>100</td>\n",
              "    </tr>\n",
              "    <tr>\n",
              "      <th>dld</th>\n",
              "      <td>50</td>\n",
              "    </tr>\n",
              "    <tr>\n",
              "      <th>chem</th>\n",
              "      <td>40</td>\n",
              "    </tr>\n",
              "    <tr>\n",
              "      <th>Eng</th>\n",
              "      <td>29</td>\n",
              "    </tr>\n",
              "  </tbody>\n",
              "</table>\n",
              "</div><br><label><b>dtype:</b> int64</label>"
            ]
          },
          "metadata": {},
          "execution_count": 27
        }
      ]
    },
    {
      "cell_type": "code",
      "source": [
        "#print the  highest marks of your result\n",
        "marks = {\n",
        "    \"maths\" : 100,\n",
        "    \"chem\"  : 40,\n",
        "    \"Eng\" : 29,\n",
        "    \"dld\" : 50\n",
        "}\n",
        "m = pd.Series(marks)\n",
        "m.sort_values(ascending=False).head(1).values[0]\n",
        "# want particular value from series use iloc\n",
        "#print the leask marks\n",
        "m.sort_values(ascending=False).iloc[m.size-1]\n",
        "\n",
        "#if want to sort orignal data use inpalce = True\n",
        "m.sort_values(ascending=False,inplace = True)\n",
        "print(m)\n"
      ],
      "metadata": {
        "colab": {
          "base_uri": "https://localhost:8080/"
        },
        "id": "G6KQJVrqxiB1",
        "outputId": "042457a4-a230-4812-d3b7-820317def855"
      },
      "execution_count": 45,
      "outputs": [
        {
          "output_type": "execute_result",
          "data": {
            "text/plain": [
              "29"
            ]
          },
          "metadata": {},
          "execution_count": 45
        }
      ]
    },
    {
      "cell_type": "markdown",
      "source": [
        "Sort_index :\n",
        "\n",
        "same as sort value but for index"
      ],
      "metadata": {
        "id": "bQMONeMi3XlY"
      }
    },
    {
      "cell_type": "code",
      "source": [
        "marks = {\n",
        "    \"maths\" : 100,\n",
        "    \"chem\"  : 40,\n",
        "    \"Eng\" : 29,\n",
        "    \"dld\" : 50\n",
        "}\n",
        "#sort the subject sort alphabatically\n",
        "c\n",
        "m.sort_index()\n",
        "#to sort perminantly\n",
        "m.sort_index(inplace=True)"
      ],
      "metadata": {
        "id": "Bw2TW_YztaAj"
      },
      "execution_count": 48,
      "outputs": []
    },
    {
      "cell_type": "markdown",
      "source": [
        "**Series Maths Methods**"
      ],
      "metadata": {
        "id": "pdr-sFPi4eWa"
      }
    },
    {
      "cell_type": "markdown",
      "source": [
        "count\n",
        "\n",
        "Diff between size and count , size counts missing values too i.e nan but\n",
        "count only counts existing values not nan values"
      ],
      "metadata": {
        "id": "P1iq1w7k4iWW"
      }
    },
    {
      "cell_type": "code",
      "source": [
        "marks = {\n",
        "    \"maths\" : 100,\n",
        "    \"chem\"  : 40,\n",
        "    \"Eng\" : 29,\n",
        "    \"dld\" : 50,\n",
        "    \"physics\" :np.nan\n",
        "}\n",
        "m = pd.Series(marks)\n",
        "m.count()"
      ],
      "metadata": {
        "colab": {
          "base_uri": "https://localhost:8080/"
        },
        "id": "3sPI4_g83wAD",
        "outputId": "571f6e91-a22c-49d1-d93f-432fd52f6085"
      },
      "execution_count": 51,
      "outputs": [
        {
          "output_type": "execute_result",
          "data": {
            "text/plain": [
              "4"
            ]
          },
          "metadata": {},
          "execution_count": 51
        }
      ]
    },
    {
      "cell_type": "markdown",
      "source": [
        "Sum and product"
      ],
      "metadata": {
        "id": "46X_pQAi5APS"
      }
    },
    {
      "cell_type": "code",
      "source": [
        "m.sum()# summ of all values\n",
        "m.product() #product of all values"
      ],
      "metadata": {
        "colab": {
          "base_uri": "https://localhost:8080/"
        },
        "id": "UYOHt8iO5CPP",
        "outputId": "608ced6f-059a-4da4-a945-413574571964"
      },
      "execution_count": 53,
      "outputs": [
        {
          "output_type": "execute_result",
          "data": {
            "text/plain": [
              "5800000.0"
            ]
          },
          "metadata": {},
          "execution_count": 53
        }
      ]
    },
    {
      "cell_type": "markdown",
      "source": [
        "mean ,median , mod,standard variation ,varience"
      ],
      "metadata": {
        "id": "9lIeF-T_5l5G"
      }
    },
    {
      "cell_type": "code",
      "source": [
        "print(m.median)\n",
        "print(m.mode)\n",
        "print(m.std)\n",
        "print(m.var)"
      ],
      "metadata": {
        "colab": {
          "base_uri": "https://localhost:8080/"
        },
        "id": "FAElQauO5vNv",
        "outputId": "53e985ef-30dc-4c12-ef0b-47dc641b6d9c"
      },
      "execution_count": 56,
      "outputs": [
        {
          "output_type": "stream",
          "name": "stdout",
          "text": [
            "<bound method Series.median of maths      100.0\n",
            "chem        40.0\n",
            "Eng         29.0\n",
            "dld         50.0\n",
            "physics      NaN\n",
            "dtype: float64>\n",
            "<bound method Series.mode of maths      100.0\n",
            "chem        40.0\n",
            "Eng         29.0\n",
            "dld         50.0\n",
            "physics      NaN\n",
            "dtype: float64>\n",
            "<bound method Series.std of maths      100.0\n",
            "chem        40.0\n",
            "Eng         29.0\n",
            "dld         50.0\n",
            "physics      NaN\n",
            "dtype: float64>\n",
            "<bound method Series.var of maths      100.0\n",
            "chem        40.0\n",
            "Eng         29.0\n",
            "dld         50.0\n",
            "physics      NaN\n",
            "dtype: float64>\n"
          ]
        }
      ]
    },
    {
      "cell_type": "markdown",
      "source": [
        "min and max"
      ],
      "metadata": {
        "id": "Auf8mMlo6MtA"
      }
    },
    {
      "cell_type": "code",
      "source": [
        "print(m.min())\n",
        "print(m.max())"
      ],
      "metadata": {
        "colab": {
          "base_uri": "https://localhost:8080/"
        },
        "id": "JnWNeC-a6AzA",
        "outputId": "852ca795-807a-4a12-ca15-a87fb78002d3"
      },
      "execution_count": 57,
      "outputs": [
        {
          "output_type": "stream",
          "name": "stdout",
          "text": [
            "29.0\n",
            "100.0\n"
          ]
        }
      ]
    },
    {
      "cell_type": "markdown",
      "source": [
        "describe\n",
        "\n",
        "The describe() method in pandas is used to generate basic summary statistics for a DataFrame or Series. It's a quick and easy way to get a high-level overview of your data, including things like the mean, standard deviation, and percentiles.\n",
        "\n",
        "By default, describe() will summarize numeric columns in the DataFrame, giving you the following statistics:\n",
        "\n",
        "count: The number of non-null entries.\n",
        "\n",
        "\n",
        "mean: The average of the values.\n",
        "\n",
        "\n",
        "std: The standard deviation (how spread out the values are).\n",
        "\n",
        "\n",
        "min: The minimum value.\n",
        "\n",
        "\n",
        "25%: The first quartile (25th percentile).\n",
        "\n",
        "\n",
        "50%: The median (50th percentile).\n",
        "\n",
        "\n",
        "75%: The third quartile (75th percentile).\n",
        "\n",
        "\n",
        "max: The maximum value."
      ],
      "metadata": {
        "id": "rBOhnZYM6dFB"
      }
    },
    {
      "cell_type": "code",
      "source": [
        "m.describe()"
      ],
      "metadata": {
        "colab": {
          "base_uri": "https://localhost:8080/",
          "height": 335
        },
        "id": "UgC3_xl-66mP",
        "outputId": "43a898a1-89c2-4e4b-ffe4-24dafb48dc6a"
      },
      "execution_count": 58,
      "outputs": [
        {
          "output_type": "execute_result",
          "data": {
            "text/plain": [
              "count      4.000000\n",
              "mean      54.750000\n",
              "std       31.362132\n",
              "min       29.000000\n",
              "25%       37.250000\n",
              "50%       45.000000\n",
              "75%       62.500000\n",
              "max      100.000000\n",
              "dtype: float64"
            ],
            "text/html": [
              "<div>\n",
              "<style scoped>\n",
              "    .dataframe tbody tr th:only-of-type {\n",
              "        vertical-align: middle;\n",
              "    }\n",
              "\n",
              "    .dataframe tbody tr th {\n",
              "        vertical-align: top;\n",
              "    }\n",
              "\n",
              "    .dataframe thead th {\n",
              "        text-align: right;\n",
              "    }\n",
              "</style>\n",
              "<table border=\"1\" class=\"dataframe\">\n",
              "  <thead>\n",
              "    <tr style=\"text-align: right;\">\n",
              "      <th></th>\n",
              "      <th>0</th>\n",
              "    </tr>\n",
              "  </thead>\n",
              "  <tbody>\n",
              "    <tr>\n",
              "      <th>count</th>\n",
              "      <td>4.000000</td>\n",
              "    </tr>\n",
              "    <tr>\n",
              "      <th>mean</th>\n",
              "      <td>54.750000</td>\n",
              "    </tr>\n",
              "    <tr>\n",
              "      <th>std</th>\n",
              "      <td>31.362132</td>\n",
              "    </tr>\n",
              "    <tr>\n",
              "      <th>min</th>\n",
              "      <td>29.000000</td>\n",
              "    </tr>\n",
              "    <tr>\n",
              "      <th>25%</th>\n",
              "      <td>37.250000</td>\n",
              "    </tr>\n",
              "    <tr>\n",
              "      <th>50%</th>\n",
              "      <td>45.000000</td>\n",
              "    </tr>\n",
              "    <tr>\n",
              "      <th>75%</th>\n",
              "      <td>62.500000</td>\n",
              "    </tr>\n",
              "    <tr>\n",
              "      <th>max</th>\n",
              "      <td>100.000000</td>\n",
              "    </tr>\n",
              "  </tbody>\n",
              "</table>\n",
              "</div><br><label><b>dtype:</b> float64</label>"
            ]
          },
          "metadata": {},
          "execution_count": 58
        }
      ]
    },
    {
      "cell_type": "markdown",
      "source": [
        "INDEXING"
      ],
      "metadata": {
        "id": "JgJdnnrQ79YH"
      }
    },
    {
      "cell_type": "code",
      "source": [
        "values = np.array([1,2,3,4,5])\n",
        "v = pd.Series(values)\n",
        "v[0]"
      ],
      "metadata": {
        "colab": {
          "base_uri": "https://localhost:8080/"
        },
        "id": "2Kp9pb-a78y3",
        "outputId": "b4904f46-3827-47c2-d1e9-72aac1713b38"
      },
      "execution_count": 60,
      "outputs": [
        {
          "output_type": "execute_result",
          "data": {
            "text/plain": [
              "1"
            ]
          },
          "metadata": {},
          "execution_count": 60
        }
      ]
    },
    {
      "cell_type": "markdown",
      "source": [
        "Negetive indexing does not work with iloc only\n",
        "\n",
        "if the keys are string the neg indexing works but if are integers then wont work"
      ],
      "metadata": {
        "id": "-3vvMJ4v8Mci"
      }
    },
    {
      "cell_type": "code",
      "source": [
        "v[::2]"
      ],
      "metadata": {
        "colab": {
          "base_uri": "https://localhost:8080/",
          "height": 178
        },
        "id": "6d9VSr-l6fSW",
        "outputId": "e6f6c701-4f5e-4138-c96b-5161ff3eef9f"
      },
      "execution_count": 61,
      "outputs": [
        {
          "output_type": "execute_result",
          "data": {
            "text/plain": [
              "0    1\n",
              "2    3\n",
              "4    5\n",
              "dtype: int64"
            ],
            "text/html": [
              "<div>\n",
              "<style scoped>\n",
              "    .dataframe tbody tr th:only-of-type {\n",
              "        vertical-align: middle;\n",
              "    }\n",
              "\n",
              "    .dataframe tbody tr th {\n",
              "        vertical-align: top;\n",
              "    }\n",
              "\n",
              "    .dataframe thead th {\n",
              "        text-align: right;\n",
              "    }\n",
              "</style>\n",
              "<table border=\"1\" class=\"dataframe\">\n",
              "  <thead>\n",
              "    <tr style=\"text-align: right;\">\n",
              "      <th></th>\n",
              "      <th>0</th>\n",
              "    </tr>\n",
              "  </thead>\n",
              "  <tbody>\n",
              "    <tr>\n",
              "      <th>0</th>\n",
              "      <td>1</td>\n",
              "    </tr>\n",
              "    <tr>\n",
              "      <th>2</th>\n",
              "      <td>3</td>\n",
              "    </tr>\n",
              "    <tr>\n",
              "      <th>4</th>\n",
              "      <td>5</td>\n",
              "    </tr>\n",
              "  </tbody>\n",
              "</table>\n",
              "</div><br><label><b>dtype:</b> int64</label>"
            ]
          },
          "metadata": {},
          "execution_count": 61
        }
      ]
    },
    {
      "cell_type": "markdown",
      "source": [],
      "metadata": {
        "id": "GQX_tKY0AWCA"
      }
    },
    {
      "cell_type": "code",
      "source": [
        "marks = {\n",
        "    \"maths\" : 100,\n",
        "    \"chem\"  : 40,\n",
        "    \"Eng\" : 29,\n",
        "    \"dld\" : 50,\n",
        "}\n",
        "m = pd.Series(marks)\n",
        "m[\"maths\"]\n",
        "m[0]\n",
        "m.iloc[0]\n",
        "m.index[-1]"
      ],
      "metadata": {
        "colab": {
          "base_uri": "https://localhost:8080/",
          "height": 90
        },
        "id": "9FzHCcJ48iu3",
        "outputId": "2ab9774e-e3e3-4078-d399-0cf2edbda10d"
      },
      "execution_count": 69,
      "outputs": [
        {
          "output_type": "stream",
          "name": "stderr",
          "text": [
            "<ipython-input-69-bb11bc047a40>:9: FutureWarning: Series.__getitem__ treating keys as positions is deprecated. In a future version, integer keys will always be treated as labels (consistent with DataFrame behavior). To access a value by position, use `ser.iloc[pos]`\n",
            "  m[0]\n"
          ]
        },
        {
          "output_type": "execute_result",
          "data": {
            "text/plain": [
              "'dld'"
            ],
            "application/vnd.google.colaboratory.intrinsic+json": {
              "type": "string"
            }
          },
          "metadata": {},
          "execution_count": 69
        }
      ]
    },
    {
      "cell_type": "code",
      "source": [
        "l = {\"a\":1,\"b\":2,\"c\":3}\n",
        "d = pd.Series(l)\n",
        "d[-1]\n"
      ],
      "metadata": {
        "colab": {
          "base_uri": "https://localhost:8080/"
        },
        "id": "-DO79FTD9EMp",
        "outputId": "1510e222-1972-4bbf-bd61-22646e85360c"
      },
      "execution_count": 75,
      "outputs": [
        {
          "output_type": "stream",
          "name": "stderr",
          "text": [
            "<ipython-input-75-55b2343ce39d>:3: FutureWarning: Series.__getitem__ treating keys as positions is deprecated. In a future version, integer keys will always be treated as labels (consistent with DataFrame behavior). To access a value by position, use `ser.iloc[pos]`\n",
            "  d[-1]\n"
          ]
        },
        {
          "output_type": "execute_result",
          "data": {
            "text/plain": [
              "3"
            ]
          },
          "metadata": {},
          "execution_count": 75
        }
      ]
    },
    {
      "cell_type": "markdown",
      "source": [
        "Slicing"
      ],
      "metadata": {
        "id": "_UAYtoiTAYLy"
      }
    },
    {
      "cell_type": "code",
      "source": [
        "data = {\n",
        "    \"imran\" : 23,\n",
        "    \"shahruk khan\" : 20,\n",
        "    \"jibran\" :29,\n",
        "    \"sajjad\" : 0,\n",
        "    \"umar\" : 12\n",
        "}\n",
        "d = pd.Series(data)\n",
        "d[1:]\n",
        "d[::-1]#reversing the series\n",
        "d[-2:0:-1] ##slicing as we do in python\n",
        "d[-3:]#last 3\n",
        "d[::2] # even evens\n",
        "d[::-2] # odd ones from last\n"
      ],
      "metadata": {
        "colab": {
          "base_uri": "https://localhost:8080/",
          "height": 178
        },
        "id": "pYqOxbmnAZyx",
        "outputId": "dd6e3e11-b7d9-40cb-839b-3c4192c9e23d"
      },
      "execution_count": 99,
      "outputs": [
        {
          "output_type": "execute_result",
          "data": {
            "text/plain": [
              "umar      12\n",
              "jibran    29\n",
              "imran     23\n",
              "dtype: int64"
            ],
            "text/html": [
              "<div>\n",
              "<style scoped>\n",
              "    .dataframe tbody tr th:only-of-type {\n",
              "        vertical-align: middle;\n",
              "    }\n",
              "\n",
              "    .dataframe tbody tr th {\n",
              "        vertical-align: top;\n",
              "    }\n",
              "\n",
              "    .dataframe thead th {\n",
              "        text-align: right;\n",
              "    }\n",
              "</style>\n",
              "<table border=\"1\" class=\"dataframe\">\n",
              "  <thead>\n",
              "    <tr style=\"text-align: right;\">\n",
              "      <th></th>\n",
              "      <th>0</th>\n",
              "    </tr>\n",
              "  </thead>\n",
              "  <tbody>\n",
              "    <tr>\n",
              "      <th>umar</th>\n",
              "      <td>12</td>\n",
              "    </tr>\n",
              "    <tr>\n",
              "      <th>jibran</th>\n",
              "      <td>29</td>\n",
              "    </tr>\n",
              "    <tr>\n",
              "      <th>imran</th>\n",
              "      <td>23</td>\n",
              "    </tr>\n",
              "  </tbody>\n",
              "</table>\n",
              "</div><br><label><b>dtype:</b> int64</label>"
            ]
          },
          "metadata": {},
          "execution_count": 99
        }
      ]
    },
    {
      "cell_type": "markdown",
      "source": [
        "Fancy indexing"
      ],
      "metadata": {
        "id": "K_KRKr8uDY3D"
      }
    },
    {
      "cell_type": "code",
      "source": [
        "d[[\"imran\",\"sajjad\"]]\n",
        "d[[3,1]]"
      ],
      "metadata": {
        "colab": {
          "base_uri": "https://localhost:8080/",
          "height": 201
        },
        "id": "ijNJ6we1DazY",
        "outputId": "8881f1a5-5859-4e1b-b95e-146195aad760"
      },
      "execution_count": 102,
      "outputs": [
        {
          "output_type": "stream",
          "name": "stderr",
          "text": [
            "<ipython-input-102-5704e7bc005b>:2: FutureWarning: Series.__getitem__ treating keys as positions is deprecated. In a future version, integer keys will always be treated as labels (consistent with DataFrame behavior). To access a value by position, use `ser.iloc[pos]`\n",
            "  d[[3,1]]\n"
          ]
        },
        {
          "output_type": "execute_result",
          "data": {
            "text/plain": [
              "sajjad           0\n",
              "shahruk khan    20\n",
              "dtype: int64"
            ],
            "text/html": [
              "<div>\n",
              "<style scoped>\n",
              "    .dataframe tbody tr th:only-of-type {\n",
              "        vertical-align: middle;\n",
              "    }\n",
              "\n",
              "    .dataframe tbody tr th {\n",
              "        vertical-align: top;\n",
              "    }\n",
              "\n",
              "    .dataframe thead th {\n",
              "        text-align: right;\n",
              "    }\n",
              "</style>\n",
              "<table border=\"1\" class=\"dataframe\">\n",
              "  <thead>\n",
              "    <tr style=\"text-align: right;\">\n",
              "      <th></th>\n",
              "      <th>0</th>\n",
              "    </tr>\n",
              "  </thead>\n",
              "  <tbody>\n",
              "    <tr>\n",
              "      <th>sajjad</th>\n",
              "      <td>0</td>\n",
              "    </tr>\n",
              "    <tr>\n",
              "      <th>shahruk khan</th>\n",
              "      <td>20</td>\n",
              "    </tr>\n",
              "  </tbody>\n",
              "</table>\n",
              "</div><br><label><b>dtype:</b> int64</label>"
            ]
          },
          "metadata": {},
          "execution_count": 102
        }
      ]
    },
    {
      "cell_type": "markdown",
      "source": [
        "Fancy indexing"
      ],
      "metadata": {
        "id": "pGdRKb5jBkMP"
      }
    },
    {
      "cell_type": "code",
      "source": [
        ""
      ],
      "metadata": {
        "id": "JtIOrOm9Bii7"
      },
      "execution_count": null,
      "outputs": []
    },
    {
      "cell_type": "code",
      "source": [],
      "metadata": {
        "id": "QE6dfG1IAata"
      },
      "execution_count": null,
      "outputs": []
    }
  ]
}