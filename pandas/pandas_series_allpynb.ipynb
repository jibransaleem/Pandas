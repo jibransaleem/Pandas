{
  "nbformat": 4,
  "nbformat_minor": 0,
  "metadata": {
    "colab": {
      "provenance": []
    },
    "kernelspec": {
      "name": "python3",
      "display_name": "Python 3"
    },
    "language_info": {
      "name": "python"
    }
  },
  "cells": [
    {
      "cell_type": "markdown",
      "source": [
        "# **Series Creation and Properties:**\n",
        "\n",
        "**pd.Series(data)**: Creates a Series from data like lists, dictionaries, or scalar values.\n",
        "\n",
        "\n",
        "**Series.size**: Returns the number of elements in the Series.\n",
        "\n",
        "\n",
        "**Series.index** : Provides the index labels of the Series\n",
        "\n",
        "\n",
        "**Series.values:** Returns the underlying data of the Series as a NumPy array"
      ],
      "metadata": {
        "id": "N883z43ajHKA"
      }
    },
    {
      "cell_type": "markdown",
      "source": [
        "\n",
        "**Series.dtype:** Returns the data type of the Series elements.\n",
        "\n",
        "\n",
        "**Series.name**:  Assigns or retrieves the name of the Series.\n",
        "\n",
        "\n",
        "**Series.is_unique** : Checks if all values in the Series are unique.\n",
        "\n",
        "\n",
        "**Series.index and Series.values**: Access the index labels and underlying\n",
        "data of the Series.\n",
        "\n",
        "\n",
        "**pd.read_csv(filepath)**: Reads a CSV file into a DataFrame.\n",
        "\n"
      ],
      "metadata": {
        "id": "p5x7cWFUmDUy"
      }
    },
    {
      "cell_type": "markdown",
      "source": [
        "# **Data Access:**\n",
        "\n",
        "Index-based and label-based access using .iloc and .loc.\n",
        "\n",
        "**Slicing:** Extracts subsets of Series.\n",
        "\n",
        "# **Arithmetic Operations:**\n",
        "\n",
        "Addition, subtraction, multiplication, division, etc., applied to Series elements directly.\n",
        "\n",
        "# **Logical Operations:**\n",
        "\n",
        "Apply conditions to filter or create boolean masks on the Series."
      ],
      "metadata": {
        "id": "vnrCeuCTjanG"
      }
    },
    {
      "cell_type": "markdown",
      "source": [
        "# **Data Cleaning and Transformation:**\n",
        "\n",
        "**dropna()**: Removes missing values (NaNs) from the Series.\n",
        "\n",
        "\n",
        "**fillna(value)**: Replaces missing values with a specified value.\n",
        "\n",
        "\n",
        "**replace(old_value, new_value)** : Replaces specific values in the Series."
      ],
      "metadata": {
        "id": "oZlh7mj7jwuu"
      }
    },
    {
      "cell_type": "markdown",
      "source": [
        "# **Sorting:**\n",
        "\n",
        "**sort_values():** Sorts Series by values.\n",
        "\n",
        "\n",
        "**sort_index()**: Sorts Series by index"
      ],
      "metadata": {
        "id": "t14D3V6okC2j"
      }
    },
    {
      "cell_type": "markdown",
      "source": [
        "# **Aggregation:**\n",
        "\n",
        "Common methods like sum(), mean(), median(), max(), and min() to aggregate values in the Series.\n",
        "\n",
        "# **Mapping and Custom Functions:**\n",
        "\n",
        "## **map(function):**\n",
        " Applies a function element-wise to the Series.\n",
        "\n",
        "**apply(function):**\n",
        "\n",
        " Similar to map() but more flexible for complex transformations."
      ],
      "metadata": {
        "id": "i6DuIC6skNdF"
      }
    },
    {
      "cell_type": "markdown",
      "source": [
        "# **Series Manipulation**:\n",
        "\n",
        "Modify elements using indexing or slicing.\n",
        "\n",
        "**Fancy Indexing**: Allows setting multiple values simultaneously using a list of indices."
      ],
      "metadata": {
        "id": "8hFgf-qbkt8Q"
      }
    },
    {
      "cell_type": "markdown",
      "source": [
        "\n",
        "# **Broadcasting:**\n",
        "\n",
        "Perform operations like addition, multiplication, or comparison across all elements"
      ],
      "metadata": {
        "id": "OgZzCi7Rk8gn"
      }
    },
    {
      "cell_type": "markdown",
      "source": [
        "# **Boolean Masking:**\n",
        "\n",
        "Apply conditions to filter elements in the Series."
      ],
      "metadata": {
        "id": "Kd_EK2rAlEA7"
      }
    },
    {
      "cell_type": "markdown",
      "source": [
        "# **Iteration:**\n",
        "\n",
        "Loop through Series elements using for loops or iterator methods.\n",
        "\n",
        "# **Aggregation:**\n",
        "\n",
        "**agg(['sum', 'mean', 'max'])**: Applies multiple aggregation functions at once.\n",
        "\n",
        "# **Data Type Conversion:**\n",
        "\n",
        "**astype(new_type):** Converts the Series to a specified data type.\n",
        "String Operations:\n",
        "\n",
        "String-specific methods like .str.contains(), .str.replace(), etc., for text manipulation.\n",
        "\n",
        "# **Indexing**:\n",
        "\n",
        "Set and reset the index using set_index() and reset_index().\n",
        "\n",
        "\n",
        "**Data Filtering**:\n",
        "\n",
        "\n",
        "# **Filter data using labels, conditions, or regular expressions.**\n",
        "\n",
        "# **Checking Missing or Null Values:**\n",
        "\n",
        "**isnull()**: Returns a boolean mask indicating NaN values.\n",
        "\n",
        "\n",
        "**notnull()**: Returns a boolean mask indicating non-NaN values.\n"
      ],
      "metadata": {
        "id": "fd4zmFhAlMan"
      }
    },
    {
      "cell_type": "code",
      "source": [],
      "metadata": {
        "id": "u9wyob_rkMt5"
      },
      "execution_count": null,
      "outputs": []
    }
  ]
}