{
  "cells": [
    {
      "cell_type": "code",
      "execution_count": 28,
      "metadata": {
        "id": "NHSPXzwO41-n"
      },
      "outputs": [],
      "source": [
        "import pandas as pd\n",
        "import numpy as np"
      ]
    },
    {
      "cell_type": "code",
      "execution_count": null,
      "metadata": {
        "id": "3z_SMMjr8OTg"
      },
      "outputs": [],
      "source": [
        "#TIMESTAMP OBJECT\n",
        "\n",
        "#particular time at the moment : at 3:00 pm on 1 of JAN"
      ]
    },
    {
      "cell_type": "code",
      "execution_count": null,
      "metadata": {
        "colab": {
          "base_uri": "https://localhost:8080/"
        },
        "id": "nAMKwwJm8OYr",
        "outputId": "4482f3ba-a39b-48ea-8c90-d688be6e8f79"
      },
      "outputs": [
        {
          "data": {
            "text/plain": [
              "Timestamp('2024-12-31 00:00:00')"
            ]
          },
          "execution_count": 2,
          "metadata": {},
          "output_type": "execute_result"
        }
      ],
      "source": [
        "#creating time stamo object:\n",
        "# year month day : in this pattern\n",
        "pd.Timestamp('2024/12/31')   # if time not specfied it considerd it at 12 am (rat) : 00:00:00"
      ]
    },
    {
      "cell_type": "code",
      "execution_count": null,
      "metadata": {
        "colab": {
          "base_uri": "https://localhost:8080/"
        },
        "id": "46iGvsSC8Ody",
        "outputId": "5372abb6-5e85-49e8-f199-9267766e6aba"
      },
      "outputs": [
        {
          "data": {
            "text/plain": [
              "Timestamp('2023-12-31 00:00:00')"
            ]
          },
          "execution_count": 6,
          "metadata": {},
          "output_type": "execute_result"
        }
      ],
      "source": [
        "#variations to create timestamp object\n",
        "pd.Timestamp('2023-12-31')\n",
        "pd.Timestamp('2023 , 12 , 31')"
      ]
    },
    {
      "cell_type": "code",
      "execution_count": null,
      "metadata": {
        "colab": {
          "base_uri": "https://localhost:8080/"
        },
        "id": "WTa1BWuk8Ogz",
        "outputId": "a77dc0b4-dd4f-4014-d89e-d4743494c40e"
      },
      "outputs": [
        {
          "data": {
            "text/plain": [
              "Timestamp('2025-01-01 00:00:00')"
            ]
          },
          "execution_count": 7,
          "metadata": {},
          "output_type": "execute_result"
        }
      ],
      "source": [
        "#ONLY YEAR\n",
        "pd.Timestamp('2025')  # if only year spec it will considerd it first day of that year"
      ]
    },
    {
      "cell_type": "code",
      "execution_count": null,
      "metadata": {
        "colab": {
          "base_uri": "https://localhost:8080/"
        },
        "id": "LXsHIxDb8OjJ",
        "outputId": "1ffdccb7-889c-4848-e0c0-02d7355af7dc"
      },
      "outputs": [
        {
          "data": {
            "text/plain": [
              "Timestamp('2024-12-31 00:00:00')"
            ]
          },
          "execution_count": 5,
          "metadata": {},
          "output_type": "execute_result"
        }
      ],
      "source": [
        "#using text\n",
        "pd.Timestamp('31th December 2024')\n",
        "pd.Timestamp('31th of December,2024')\n",
        "pd.Timestamp('31 of december 2024')"
      ]
    },
    {
      "cell_type": "code",
      "execution_count": null,
      "metadata": {
        "colab": {
          "base_uri": "https://localhost:8080/"
        },
        "id": "FZX8F2RK8Ol3",
        "outputId": "75f21fc0-2fed-415a-986b-8e93d7505f19"
      },
      "outputs": [
        {
          "data": {
            "text/plain": [
              "Timestamp('2024-12-31 21:21:00')"
            ]
          },
          "execution_count": 6,
          "metadata": {},
          "output_type": "execute_result"
        }
      ],
      "source": [
        "#provding time\n",
        "pd.Timestamp('31th December 2024 9:21Pm') # in 24 hour fomat"
      ]
    },
    {
      "cell_type": "code",
      "execution_count": null,
      "metadata": {
        "colab": {
          "base_uri": "https://localhost:8080/"
        },
        "id": "-Zp35NwZ8Oot",
        "outputId": "dfaa7579-72e6-431b-ac0f-0e2abf5c097b"
      },
      "outputs": [
        {
          "data": {
            "text/plain": [
              "Timestamp('2023-12-31 09:30:00')"
            ]
          },
          "execution_count": 25,
          "metadata": {},
          "output_type": "execute_result"
        }
      ],
      "source": [
        "#using timestamp object using python date time obj\n",
        "import datetime as dt\n",
        "\n",
        "obj  = dt.datetime(2023,12,31,9,30,0)# hour min sec\n",
        "\n",
        "pd.Timestamp(obj)"
      ]
    },
    {
      "cell_type": "code",
      "execution_count": null,
      "metadata": {
        "colab": {
          "base_uri": "https://localhost:8080/"
        },
        "id": "she5y8aW8OrW",
        "outputId": "f9b59a24-374b-4f96-cf85-b3769fd281dd"
      },
      "outputs": [
        {
          "data": {
            "text/plain": [
              "0"
            ]
          },
          "execution_count": 17,
          "metadata": {},
          "output_type": "execute_result"
        }
      ],
      "source": [
        "# fetching attributes from date time obj creating using python module\n",
        "obj.year\n",
        "obj.month\n",
        "obj.hour\n",
        "obj.minute\n",
        "obj.second"
      ]
    },
    {
      "cell_type": "code",
      "execution_count": null,
      "metadata": {
        "id": "vDfJjAw58OuZ"
      },
      "outputs": [],
      "source": [
        "# # why separate objects to handle data and time when python already has datetime functionality?\n",
        "\n",
        "\n",
        "# # Pandas' Timestamp and DatetimeIndex objects are designed to make working with date-time data in large datasets easier and more efficient than\n",
        "#  Python's built-in datetime module.\n",
        "#  Python's datetime works well for individual date-time manipulations but does not support vectorized operations or integration with DataFrames.\n",
        "# With Pandas, you can apply operations to entire columns of dates without needing loops, making it much faster for data analysis tasks.\n",
        "\n",
        "# # Pandas also integrates date-time data directly into DataFrames, allowing for easy filtering, grouping, and extracting parts of the date,\n",
        "#  such as the year or month.\n",
        "#  Additionally, Pandas provides built-in support for handling time zones and missing data (NaT), which Python's datetime does not handle as easily.\n",
        "\n",
        "# # Pandas offers advanced date-time operations like resampling (converting daily data to monthly) and shifting dates for time series analysis.\n",
        "#  It's optimized for performance when processing large datasets,\n",
        "# making it more efficient than Python's datetime module for tasks involving date-time data in DataFrames."
      ]
    },
    {
      "cell_type": "markdown",
      "metadata": {
        "id": "BXXTnDXgCBQF"
      },
      "source": []
    },
    {
      "cell_type": "markdown",
      "metadata": {
        "id": "5aWSEsSCCBXG"
      },
      "source": [
        "syntax wise datetime is very convenient\n",
        "\n",
        "But the performance takes a hit while working with huge data. List vs Numpy Array\n",
        "\n",
        "The weaknesses of Python's datetime format inspired the NumPy team to add a set of native time series data type to NumPy.\n",
        "\n",
        "The datetime64 dtype encodes dates as 64-bit integers, and thus allows arrays of dates to be represented very compactly.\n",
        "\n",
        "\n"
      ]
    },
    {
      "cell_type": "code",
      "execution_count": null,
      "metadata": {
        "id": "kgHaHA-18OxY"
      },
      "outputs": [],
      "source": [
        "#behind the scn it is treating as interges of 64 bit by numpy\n",
        "date  = np.array('2024-12-31' , dtype= np.datetime64)"
      ]
    },
    {
      "cell_type": "code",
      "execution_count": null,
      "metadata": {
        "colab": {
          "base_uri": "https://localhost:8080/"
        },
        "id": "xej5nDkS8O2w",
        "outputId": "de79b404-9730-4bee-9f49-aea7eeb62e4c"
      },
      "outputs": [
        {
          "data": {
            "text/plain": [
              "array(['2024-12-31', '2025-01-01', '2025-01-02', '2025-01-03',\n",
              "       '2025-01-04', '2025-01-05', '2025-01-06', '2025-01-07',\n",
              "       '2025-01-08', '2025-01-09'], dtype='datetime64[D]')"
            ]
          },
          "execution_count": 23,
          "metadata": {},
          "output_type": "execute_result"
        }
      ],
      "source": [
        "#vectorization\n",
        "date+np.arange(10) #genraing next 10 dates more ,"
      ]
    },
    {
      "cell_type": "markdown",
      "metadata": {
        "id": "WoO7lTxAFAm4"
      },
      "source": [
        "Because of the uniform type in NumPy datetime64 arrays, this type of operation can be accomplished much more quickly than if we were working directly with Python's datetime objects, especially as arrays get large\n",
        "\n",
        "Pandas Timestamp object combines the ease-of-use of python datetime with the efficient storage and vectorized interface of numpy.datetime64\n",
        "\n",
        "From a group of these Timestamp objects, Pandas can construct a DatetimeIndex that can be used to index data in a Series or DataFrame"
      ]
    },
    {
      "cell_type": "code",
      "execution_count": 40,
      "metadata": {
        "colab": {
          "base_uri": "https://localhost:8080/",
          "height": 178
        },
        "id": "T2vSHXmPSp5D",
        "outputId": "4f33c470-5342-4016-9ac3-5a0fba187bc2"
      },
      "outputs": [
        {
          "output_type": "execute_result",
          "data": {
            "text/plain": [
              "2023-01-01    1\n",
              "2023-01-02    2\n",
              "2023-01-03    3\n",
              "dtype: int64"
            ],
            "text/html": [
              "<div>\n",
              "<style scoped>\n",
              "    .dataframe tbody tr th:only-of-type {\n",
              "        vertical-align: middle;\n",
              "    }\n",
              "\n",
              "    .dataframe tbody tr th {\n",
              "        vertical-align: top;\n",
              "    }\n",
              "\n",
              "    .dataframe thead th {\n",
              "        text-align: right;\n",
              "    }\n",
              "</style>\n",
              "<table border=\"1\" class=\"dataframe\">\n",
              "  <thead>\n",
              "    <tr style=\"text-align: right;\">\n",
              "      <th></th>\n",
              "      <th>0</th>\n",
              "    </tr>\n",
              "  </thead>\n",
              "  <tbody>\n",
              "    <tr>\n",
              "      <th>2023-01-01</th>\n",
              "      <td>1</td>\n",
              "    </tr>\n",
              "    <tr>\n",
              "      <th>2023-01-02</th>\n",
              "      <td>2</td>\n",
              "    </tr>\n",
              "    <tr>\n",
              "      <th>2023-01-03</th>\n",
              "      <td>3</td>\n",
              "    </tr>\n",
              "  </tbody>\n",
              "</table>\n",
              "</div><br><label><b>dtype:</b> int64</label>"
            ]
          },
          "metadata": {},
          "execution_count": 40
        }
      ],
      "source": [
        "#date time index:\n",
        "# collection of pandas timestamp\n",
        "pd.DatetimeIndex([ '2024-12-25' , '2024-12-26'  , '2024-12-27' ])\n",
        "import datetime as dt\n",
        "bj  = dt.datetime(2023,12,31,9,30,0)# hour min sec\n",
        "\n",
        "pd.DatetimeIndex([bj])\n",
        "\n",
        "dates = pd.DatetimeIndex([dt.datetime(2023,1,1),dt.datetime(2023,1,2),dt.datetime(2023,1,3)])\n",
        "pd.Series( [1,2,3] ,index  = dates)"
      ]
    },
    {
      "cell_type": "code",
      "source": [
        "#date range function"
      ],
      "metadata": {
        "id": "GTpWnzvrV_bN"
      },
      "execution_count": null,
      "outputs": []
    },
    {
      "cell_type": "code",
      "source": [
        "pd.date_range(start = '2024-12-31' , end  = '2025-1-29' ) #by default freq  =  d\n",
        "#want alternate days\n",
        "pd.date_range(start = '2024-12-31' , end  = '2025-1-29' , freq  = '2d')\n",
        "#AFTER 5dates\n",
        "pd.date_range(start = '2024-12-31' , end  = '2025-1-29' , freq  = '5D')\n",
        "\n",
        "#show businnes days only means(Mon-FRi) freq  = b\n",
        "pd.date_range(start = '2024-12-31' , end  = '2025-1-29' , freq = 'b')\n",
        "\n",
        "#only sundays\n",
        "pd.date_range(start = '2024-12-31' , end  = '2025-1-29'  ,freq  = 'W-Sun')"
      ],
      "metadata": {
        "colab": {
          "base_uri": "https://localhost:8080/"
        },
        "id": "rLKnUb0AWNwQ",
        "outputId": "a3e3209f-3d43-4ae1-de9c-ee7dc95d1bfb"
      },
      "execution_count": 52,
      "outputs": [
        {
          "output_type": "execute_result",
          "data": {
            "text/plain": [
              "DatetimeIndex(['2025-01-05', '2025-01-12', '2025-01-19', '2025-01-26'], dtype='datetime64[ns]', freq='W-SUN')"
            ]
          },
          "metadata": {},
          "execution_count": 52
        }
      ]
    },
    {
      "cell_type": "code",
      "source": [
        "#hourly time stamo\n",
        "pd.date_range(start = '2024-12-31',end = '2025-01-29' , freq = 'H')\n",
        "#freq :\n",
        "# freq = h => hour\n",
        "# 2h > 2 hour gaps\n",
        "\n",
        "# freq = M=> minute\n",
        "# 2m > 2 minute gaps\n",
        "\n",
        "# freq = S => Second\n",
        "# 2s > 2 second gaps\n",
        "\n",
        "\n"
      ],
      "metadata": {
        "colab": {
          "base_uri": "https://localhost:8080/"
        },
        "id": "GoTl5FA8X84s",
        "outputId": "471d78db-9bb0-4647-946a-85a6cd93ba15"
      },
      "execution_count": 56,
      "outputs": [
        {
          "output_type": "stream",
          "name": "stderr",
          "text": [
            "<ipython-input-56-d93c9a093a25>:2: FutureWarning: 'S' is deprecated and will be removed in a future version, please use 's' instead.\n",
            "  len(pd.date_range(start = '2024-12-31',end = '2025-01-29' , freq = 'S'))\n"
          ]
        },
        {
          "output_type": "execute_result",
          "data": {
            "text/plain": [
              "2505601"
            ]
          },
          "metadata": {},
          "execution_count": 56
        }
      ]
    },
    {
      "cell_type": "code",
      "source": [
        "#I  WANT n  Days after a particular days\n",
        "pd.date_range(start = '2024-12-31',periods = 30 )\n",
        "\n",
        "import pandas as pd\n",
        "\n",
        "# Create date ranges\n",
        "a = pd.date_range(start='2022-12-31', periods=30)\n",
        "b = pd.date_range(start='2024-12-31', periods=30)\n",
        "\n",
        "# Calculate the difference (in days)\n",
        "x = b - a\n",
        "\n",
        "# Convert the difference into years (365.25 days in a year)\n",
        "years_diff = x / pd.Timedelta(days=365.25)\n",
        "\n",
        "# Print the result\n",
        "print(years_diff)\n",
        "\n"
      ],
      "metadata": {
        "colab": {
          "base_uri": "https://localhost:8080/"
        },
        "id": "-8HIufkTgZAG",
        "outputId": "e2270d59-b700-4826-9f6c-620d05e7c93b"
      },
      "execution_count": 68,
      "outputs": [
        {
          "output_type": "stream",
          "name": "stdout",
          "text": [
            "Index([2.001368925393566, 2.001368925393566, 2.001368925393566,\n",
            "       2.001368925393566, 2.001368925393566, 2.001368925393566,\n",
            "       2.001368925393566, 2.001368925393566, 2.001368925393566,\n",
            "       2.001368925393566, 2.001368925393566, 2.001368925393566,\n",
            "       2.001368925393566, 2.001368925393566, 2.001368925393566,\n",
            "       2.001368925393566, 2.001368925393566, 2.001368925393566,\n",
            "       2.001368925393566, 2.001368925393566, 2.001368925393566,\n",
            "       2.001368925393566, 2.001368925393566, 2.001368925393566,\n",
            "       2.001368925393566, 2.001368925393566, 2.001368925393566,\n",
            "       2.001368925393566, 2.001368925393566, 2.001368925393566],\n",
            "      dtype='float64')\n"
          ]
        }
      ]
    },
    {
      "cell_type": "code",
      "source": [
        "exp = pd.read_csv('/content/expense_data (1).csv')\n"
      ],
      "metadata": {
        "id": "G3b13gzIjA7D"
      },
      "execution_count": 71,
      "outputs": []
    },
    {
      "cell_type": "code",
      "source": [
        "#to_datetime func\n",
        "\n",
        "# convert ordinary string date to datetime pandas obj\n",
        "\n",
        "x = pd.Series(['2023-01-01','2024-01-01','2030-01-01'])\n",
        "#fetching year only\n",
        "x.str.split('-').str.get(0)\n",
        "\n",
        "#why to hastle\n",
        "y  = pd.to_datetime(x)\n",
        "#use dt like str for dealing with dates\n",
        "y.dt.year\n",
        "y.dt.month\n",
        "y.dt.month_name()\n",
        "y.dt.day_name()\n",
        "y.dt.year.iloc[2]-y.dt.year.iloc[0]  # year gap"
      ],
      "metadata": {
        "colab": {
          "base_uri": "https://localhost:8080/"
        },
        "id": "Dbyknr_akOR1",
        "outputId": "658d2cd6-86ee-4677-a460-e4c260cf80ce"
      },
      "execution_count": 88,
      "outputs": [
        {
          "output_type": "execute_result",
          "data": {
            "text/plain": [
              "7"
            ]
          },
          "metadata": {},
          "execution_count": 88
        }
      ]
    },
    {
      "cell_type": "code",
      "source": [
        "  # if wrong/invalid date occurs to avoid/ignore use parameter errors  ='coerce'\n",
        "day   = pd.Series(['2023-01-01','2024-01-01','2030-01-32'])\n",
        "pd.to_datetime(day,errors = 'coerce') # Nat is invalid time or nan value\n",
        "pd.to_datetime(day,errors = 'coerce').isnull()"
      ],
      "metadata": {
        "colab": {
          "base_uri": "https://localhost:8080/",
          "height": 178
        },
        "id": "4HFsH4xlmLKd",
        "outputId": "c4adc9fd-f2e3-4950-f35d-818882e89c9c"
      },
      "execution_count": 94,
      "outputs": [
        {
          "output_type": "execute_result",
          "data": {
            "text/plain": [
              "0    False\n",
              "1    False\n",
              "2     True\n",
              "dtype: bool"
            ],
            "text/html": [
              "<div>\n",
              "<style scoped>\n",
              "    .dataframe tbody tr th:only-of-type {\n",
              "        vertical-align: middle;\n",
              "    }\n",
              "\n",
              "    .dataframe tbody tr th {\n",
              "        vertical-align: top;\n",
              "    }\n",
              "\n",
              "    .dataframe thead th {\n",
              "        text-align: right;\n",
              "    }\n",
              "</style>\n",
              "<table border=\"1\" class=\"dataframe\">\n",
              "  <thead>\n",
              "    <tr style=\"text-align: right;\">\n",
              "      <th></th>\n",
              "      <th>0</th>\n",
              "    </tr>\n",
              "  </thead>\n",
              "  <tbody>\n",
              "    <tr>\n",
              "      <th>0</th>\n",
              "      <td>False</td>\n",
              "    </tr>\n",
              "    <tr>\n",
              "      <th>1</th>\n",
              "      <td>False</td>\n",
              "    </tr>\n",
              "    <tr>\n",
              "      <th>2</th>\n",
              "      <td>True</td>\n",
              "    </tr>\n",
              "  </tbody>\n",
              "</table>\n",
              "</div><br><label><b>dtype:</b> bool</label>"
            ]
          },
          "metadata": {},
          "execution_count": 94
        }
      ]
    }
  ],
  "metadata": {
    "colab": {
      "provenance": []
    },
    "kernelspec": {
      "display_name": "Python 3",
      "name": "python3"
    },
    "language_info": {
      "name": "python"
    }
  },
  "nbformat": 4,
  "nbformat_minor": 0
}