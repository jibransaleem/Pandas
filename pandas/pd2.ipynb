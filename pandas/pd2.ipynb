{
  "nbformat": 4,
  "nbformat_minor": 0,
  "metadata": {
    "colab": {
      "provenance": []
    },
    "kernelspec": {
      "name": "python3",
      "display_name": "Python 3"
    },
    "language_info": {
      "name": "python"
    }
  },
  "cells": [
    {
      "cell_type": "code",
      "source": [
        "import numpy as np\n",
        "import pandas as pd"
      ],
      "metadata": {
        "id": "jhpJZW9wWOxk"
      },
      "execution_count": 1,
      "outputs": []
    },
    {
      "cell_type": "code",
      "execution_count": 4,
      "metadata": {
        "colab": {
          "base_uri": "https://localhost:8080/",
          "height": 229
        },
        "id": "YyyXwayZWM6O",
        "outputId": "bab22a1c-b37d-4dba-8b5f-ea08d4f7b90b"
      },
      "outputs": [
        {
          "output_type": "execute_result",
          "data": {
            "text/plain": [
              "0    jibran\n",
              "1       ali\n",
              "2    sajjad\n",
              "3      umar\n",
              "dtype: object"
            ],
            "text/html": [
              "<div>\n",
              "<style scoped>\n",
              "    .dataframe tbody tr th:only-of-type {\n",
              "        vertical-align: middle;\n",
              "    }\n",
              "\n",
              "    .dataframe tbody tr th {\n",
              "        vertical-align: top;\n",
              "    }\n",
              "\n",
              "    .dataframe thead th {\n",
              "        text-align: right;\n",
              "    }\n",
              "</style>\n",
              "<table border=\"1\" class=\"dataframe\">\n",
              "  <thead>\n",
              "    <tr style=\"text-align: right;\">\n",
              "      <th></th>\n",
              "      <th>0</th>\n",
              "    </tr>\n",
              "  </thead>\n",
              "  <tbody>\n",
              "    <tr>\n",
              "      <th>0</th>\n",
              "      <td>jibran</td>\n",
              "    </tr>\n",
              "    <tr>\n",
              "      <th>1</th>\n",
              "      <td>ali</td>\n",
              "    </tr>\n",
              "    <tr>\n",
              "      <th>2</th>\n",
              "      <td>sajjad</td>\n",
              "    </tr>\n",
              "    <tr>\n",
              "      <th>3</th>\n",
              "      <td>umar</td>\n",
              "    </tr>\n",
              "  </tbody>\n",
              "</table>\n",
              "</div><br><label><b>dtype:</b> object</label>"
            ]
          },
          "metadata": {},
          "execution_count": 4
        }
      ],
      "source": [
        "data = [\"jibran\",\"ali\",\"sajjad\",\"umar\"]\n",
        "pd.Series(data)"
      ]
    },
    {
      "cell_type": "markdown",
      "source": [
        "creating series from dictionary"
      ],
      "metadata": {
        "id": "K1-PG-p6WxBD"
      }
    },
    {
      "cell_type": "code",
      "source": [
        "marks= {\n",
        "    \"maths\":10,\n",
        "    \"english\":20,\n",
        "    \"urdu\":30\n",
        "}\n",
        "pd.Series(marks)\n"
      ],
      "metadata": {
        "colab": {
          "base_uri": "https://localhost:8080/",
          "height": 198
        },
        "id": "AEkQmtREWppj",
        "outputId": "8d9143ec-ef39-4809-a04c-d8c057eed609"
      },
      "execution_count": 7,
      "outputs": [
        {
          "output_type": "execute_result",
          "data": {
            "text/plain": [
              "maths      10\n",
              "english    20\n",
              "urdu       30\n",
              "dtype: int64"
            ],
            "text/html": [
              "<div>\n",
              "<style scoped>\n",
              "    .dataframe tbody tr th:only-of-type {\n",
              "        vertical-align: middle;\n",
              "    }\n",
              "\n",
              "    .dataframe tbody tr th {\n",
              "        vertical-align: top;\n",
              "    }\n",
              "\n",
              "    .dataframe thead th {\n",
              "        text-align: right;\n",
              "    }\n",
              "</style>\n",
              "<table border=\"1\" class=\"dataframe\">\n",
              "  <thead>\n",
              "    <tr style=\"text-align: right;\">\n",
              "      <th></th>\n",
              "      <th>0</th>\n",
              "    </tr>\n",
              "  </thead>\n",
              "  <tbody>\n",
              "    <tr>\n",
              "      <th>maths</th>\n",
              "      <td>10</td>\n",
              "    </tr>\n",
              "    <tr>\n",
              "      <th>english</th>\n",
              "      <td>20</td>\n",
              "    </tr>\n",
              "    <tr>\n",
              "      <th>urdu</th>\n",
              "      <td>30</td>\n",
              "    </tr>\n",
              "  </tbody>\n",
              "</table>\n",
              "</div><br><label><b>dtype:</b> int64</label>"
            ]
          },
          "metadata": {},
          "execution_count": 7
        }
      ]
    },
    {
      "cell_type": "markdown",
      "source": [
        "SEREIS ATTRIBUTES\n",
        "\n",
        "\n",
        "\n"
      ],
      "metadata": {
        "id": "Ie0PdlsYXLdg"
      }
    },
    {
      "cell_type": "markdown",
      "source": [
        "SIZE : give total elements(values) of the series\n"
      ],
      "metadata": {
        "id": "7xlZl0WoX7mw"
      }
    },
    {
      "cell_type": "code",
      "source": [
        "data = {\n",
        "    \"a\" :\"jibran\",\n",
        "    \"b\" :\"ali\",\n",
        "    \"c\" :\"sajjad\",\n",
        "    \"d\" :\"umar\"\n",
        "}\n",
        "s = pd.Series(data)\n",
        "s.size\n"
      ],
      "metadata": {
        "colab": {
          "base_uri": "https://localhost:8080/"
        },
        "id": "Zlcoul1HYIfq",
        "outputId": "cd124468-1624-4059-c711-f1466e07fe69"
      },
      "execution_count": 8,
      "outputs": [
        {
          "output_type": "execute_result",
          "data": {
            "text/plain": [
              "4"
            ]
          },
          "metadata": {},
          "execution_count": 8
        }
      ]
    },
    {
      "cell_type": "markdown",
      "source": [
        "dtype\n",
        "\n",
        "ased on the standard behavior of pandas, the expected output should be 'O' for the dtype when dealing with string data"
      ],
      "metadata": {
        "id": "8bbjvkjJYjxn"
      }
    },
    {
      "cell_type": "code",
      "source": [
        "data = {\n",
        "    \"a\" :\"jibran\",\n",
        "    \"b\" :\"ali\",\n",
        "    \"c\" :\"sajjad\",\n",
        "    \"d\" :\"umar\"\n",
        "}\n",
        "s = pd.Series(data)\n",
        "s.dtype"
      ],
      "metadata": {
        "colab": {
          "base_uri": "https://localhost:8080/"
        },
        "id": "FGiAuQMsX7J3",
        "outputId": "ba2edd84-a417-4517-e232-ff9063bae6cc"
      },
      "execution_count": 10,
      "outputs": [
        {
          "output_type": "execute_result",
          "data": {
            "text/plain": [
              "dtype('O')"
            ]
          },
          "metadata": {},
          "execution_count": 10
        }
      ]
    },
    {
      "cell_type": "markdown",
      "source": [
        "name"
      ],
      "metadata": {
        "id": "pSz8PWokY3G4"
      }
    },
    {
      "cell_type": "code",
      "source": [
        "data = {\n",
        "    \"a\" :\"jibran\",\n",
        "    \"b\" :\"ali\",\n",
        "    \"c\" :\"sajjad\",\n",
        "    \"d\" :\"umar\"\n",
        "}\n",
        "s = pd.Series(data , name=\"dost\")\n",
        "s.name"
      ],
      "metadata": {
        "colab": {
          "base_uri": "https://localhost:8080/",
          "height": 55
        },
        "id": "AZkRHOsIX7Mz",
        "outputId": "d8a51831-e5b2-4bc5-daa8-d73ce87aa705"
      },
      "execution_count": 11,
      "outputs": [
        {
          "output_type": "execute_result",
          "data": {
            "text/plain": [
              "'dost'"
            ],
            "application/vnd.google.colaboratory.intrinsic+json": {
              "type": "string"
            }
          },
          "metadata": {},
          "execution_count": 11
        }
      ]
    },
    {
      "cell_type": "markdown",
      "source": [
        "Is_unique:tells if every values are distinct"
      ],
      "metadata": {
        "id": "HvXWIdbRY-4N"
      }
    },
    {
      "cell_type": "code",
      "source": [
        "data = {\n",
        "    \"a\" :\"jibran\",\n",
        "    \"b\" :\"ali\",\n",
        "    \"c\" :\"sajjad\",\n",
        "    \"d\" :\"umar\"\n",
        "}\n",
        "s = pd.Series(data)\n",
        "s.is_unique"
      ],
      "metadata": {
        "colab": {
          "base_uri": "https://localhost:8080/"
        },
        "id": "3_cJ-iU3XLFp",
        "outputId": "7b8e0eaa-1603-4d24-89c4-8ec4b986b057"
      },
      "execution_count": 14,
      "outputs": [
        {
          "output_type": "execute_result",
          "data": {
            "text/plain": [
              "True"
            ]
          },
          "metadata": {},
          "execution_count": 14
        }
      ]
    },
    {
      "cell_type": "code",
      "source": [
        "data = {\n",
        "    \"a\" :\"jibran\",\n",
        "    \"b\" :\"jibran\",\n",
        "    \"c\" :\"sajjad\",\n",
        "    \"d\" :\"umar\"\n",
        "}\n",
        "s = pd.Series(data)\n",
        "s.is_unique"
      ],
      "metadata": {
        "colab": {
          "base_uri": "https://localhost:8080/"
        },
        "id": "bA5jpQqlXKBz",
        "outputId": "a19d38fb-90a0-43d9-f881-50964b6a66e1"
      },
      "execution_count": 16,
      "outputs": [
        {
          "output_type": "execute_result",
          "data": {
            "text/plain": [
              "False"
            ]
          },
          "metadata": {},
          "execution_count": 16
        }
      ]
    },
    {
      "cell_type": "markdown",
      "source": [
        "INDEX AND VALUES"
      ],
      "metadata": {
        "id": "trfNilqaZUp3"
      }
    },
    {
      "cell_type": "code",
      "source": [
        "data = {\n",
        "    \"a\" :\"jibran\",\n",
        "    \"b\" :\"jibran\",\n",
        "    \"c\" :\"sajjad\",\n",
        "    \"d\" :\"umar\"\n",
        "}\n",
        "s = pd.Series(data)\n",
        "s.index\n",
        "s.values"
      ],
      "metadata": {
        "colab": {
          "base_uri": "https://localhost:8080/"
        },
        "id": "G_2pLVlPZcw-",
        "outputId": "fe7d8d1c-a8fe-4cb5-bbbc-bc0edf8d889b"
      },
      "execution_count": 18,
      "outputs": [
        {
          "output_type": "stream",
          "name": "stdout",
          "text": [
            "['jibran' 'jibran' 'sajjad' 'umar']\n"
          ]
        }
      ]
    },
    {
      "cell_type": "code",
      "source": [
        "pd.read_csv('/content/people-100.csv')"
      ],
      "metadata": {
        "colab": {
          "base_uri": "https://localhost:8080/",
          "height": 565
        },
        "id": "iSsMmLGacgVf",
        "outputId": "ffa64684-317f-4ef3-a7f8-5e040f5d2dee"
      },
      "execution_count": 22,
      "outputs": [
        {
          "output_type": "execute_result",
          "data": {
            "text/plain": [
              "    Index          User Id First Name  Last Name     Sex  \\\n",
              "0       1  88F7B33d2bcf9f5     Shelby    Terrell    Male   \n",
              "1       2  f90cD3E76f1A9b9    Phillip    Summers  Female   \n",
              "2       3  DbeAb8CcdfeFC2c   Kristine     Travis    Male   \n",
              "3       4  A31Bee3c201ef58    Yesenia   Martinez    Male   \n",
              "4       5  1bA7A3dc874da3c       Lori       Todd    Male   \n",
              "..    ...              ...        ...        ...     ...   \n",
              "95     96  5eFda7caAeB260E     Dennis     Barnes  Female   \n",
              "96     97  CCbFce93d3720bE      Steve  Patterson  Female   \n",
              "97     98  2fEc528aFAF0b69     Wesley       Bray    Male   \n",
              "98     99  Adc7ad9B6e4A1Fe     Summer   Oconnell  Female   \n",
              "99    100  b8D0aD3490FC7e1     Mariah    Bernard    Male   \n",
              "\n",
              "                         Email                   Phone Date of birth  \\\n",
              "0         elijah57@example.net  001-084-906-7849x73518    1945-10-26   \n",
              "1        bethany14@example.com       214.112.6044x4913    1910-03-24   \n",
              "2        bthompson@example.com            277.609.7938    1992-07-02   \n",
              "3    kaitlinkaiser@example.com            584.094.6111    2017-08-03   \n",
              "4   buchananmanuel@example.net       689-207-3558x7233    1938-12-01   \n",
              "..                         ...                     ...           ...   \n",
              "95         bmartin@example.org    001-095-524-2112x257    1954-07-30   \n",
              "96       latasha46@example.net        001-865-478-5157    1932-04-29   \n",
              "97        regina11@example.org      995-542-3004x76800    1994-12-28   \n",
              "98  alexiscantrell@example.org    001-273-685-6932x092    2012-04-12   \n",
              "99       pcopeland@example.org     (341)594-6554x44657    2016-11-15   \n",
              "\n",
              "                Job Title  \n",
              "0         Games developer  \n",
              "1          Phytotherapist  \n",
              "2               Homeopath  \n",
              "3       Market researcher  \n",
              "4      Veterinary surgeon  \n",
              "..                    ...  \n",
              "95      Software engineer  \n",
              "96              Barrister  \n",
              "97         Police officer  \n",
              "98   Broadcast journalist  \n",
              "99  IT sales professional  \n",
              "\n",
              "[100 rows x 9 columns]"
            ],
            "text/html": [
              "\n",
              "  <div id=\"df-1db481b2-97fc-43f9-93c6-5f82f1b6bab7\" class=\"colab-df-container\">\n",
              "    <div>\n",
              "<style scoped>\n",
              "    .dataframe tbody tr th:only-of-type {\n",
              "        vertical-align: middle;\n",
              "    }\n",
              "\n",
              "    .dataframe tbody tr th {\n",
              "        vertical-align: top;\n",
              "    }\n",
              "\n",
              "    .dataframe thead th {\n",
              "        text-align: right;\n",
              "    }\n",
              "</style>\n",
              "<table border=\"1\" class=\"dataframe\">\n",
              "  <thead>\n",
              "    <tr style=\"text-align: right;\">\n",
              "      <th></th>\n",
              "      <th>Index</th>\n",
              "      <th>User Id</th>\n",
              "      <th>First Name</th>\n",
              "      <th>Last Name</th>\n",
              "      <th>Sex</th>\n",
              "      <th>Email</th>\n",
              "      <th>Phone</th>\n",
              "      <th>Date of birth</th>\n",
              "      <th>Job Title</th>\n",
              "    </tr>\n",
              "  </thead>\n",
              "  <tbody>\n",
              "    <tr>\n",
              "      <th>0</th>\n",
              "      <td>1</td>\n",
              "      <td>88F7B33d2bcf9f5</td>\n",
              "      <td>Shelby</td>\n",
              "      <td>Terrell</td>\n",
              "      <td>Male</td>\n",
              "      <td>elijah57@example.net</td>\n",
              "      <td>001-084-906-7849x73518</td>\n",
              "      <td>1945-10-26</td>\n",
              "      <td>Games developer</td>\n",
              "    </tr>\n",
              "    <tr>\n",
              "      <th>1</th>\n",
              "      <td>2</td>\n",
              "      <td>f90cD3E76f1A9b9</td>\n",
              "      <td>Phillip</td>\n",
              "      <td>Summers</td>\n",
              "      <td>Female</td>\n",
              "      <td>bethany14@example.com</td>\n",
              "      <td>214.112.6044x4913</td>\n",
              "      <td>1910-03-24</td>\n",
              "      <td>Phytotherapist</td>\n",
              "    </tr>\n",
              "    <tr>\n",
              "      <th>2</th>\n",
              "      <td>3</td>\n",
              "      <td>DbeAb8CcdfeFC2c</td>\n",
              "      <td>Kristine</td>\n",
              "      <td>Travis</td>\n",
              "      <td>Male</td>\n",
              "      <td>bthompson@example.com</td>\n",
              "      <td>277.609.7938</td>\n",
              "      <td>1992-07-02</td>\n",
              "      <td>Homeopath</td>\n",
              "    </tr>\n",
              "    <tr>\n",
              "      <th>3</th>\n",
              "      <td>4</td>\n",
              "      <td>A31Bee3c201ef58</td>\n",
              "      <td>Yesenia</td>\n",
              "      <td>Martinez</td>\n",
              "      <td>Male</td>\n",
              "      <td>kaitlinkaiser@example.com</td>\n",
              "      <td>584.094.6111</td>\n",
              "      <td>2017-08-03</td>\n",
              "      <td>Market researcher</td>\n",
              "    </tr>\n",
              "    <tr>\n",
              "      <th>4</th>\n",
              "      <td>5</td>\n",
              "      <td>1bA7A3dc874da3c</td>\n",
              "      <td>Lori</td>\n",
              "      <td>Todd</td>\n",
              "      <td>Male</td>\n",
              "      <td>buchananmanuel@example.net</td>\n",
              "      <td>689-207-3558x7233</td>\n",
              "      <td>1938-12-01</td>\n",
              "      <td>Veterinary surgeon</td>\n",
              "    </tr>\n",
              "    <tr>\n",
              "      <th>...</th>\n",
              "      <td>...</td>\n",
              "      <td>...</td>\n",
              "      <td>...</td>\n",
              "      <td>...</td>\n",
              "      <td>...</td>\n",
              "      <td>...</td>\n",
              "      <td>...</td>\n",
              "      <td>...</td>\n",
              "      <td>...</td>\n",
              "    </tr>\n",
              "    <tr>\n",
              "      <th>95</th>\n",
              "      <td>96</td>\n",
              "      <td>5eFda7caAeB260E</td>\n",
              "      <td>Dennis</td>\n",
              "      <td>Barnes</td>\n",
              "      <td>Female</td>\n",
              "      <td>bmartin@example.org</td>\n",
              "      <td>001-095-524-2112x257</td>\n",
              "      <td>1954-07-30</td>\n",
              "      <td>Software engineer</td>\n",
              "    </tr>\n",
              "    <tr>\n",
              "      <th>96</th>\n",
              "      <td>97</td>\n",
              "      <td>CCbFce93d3720bE</td>\n",
              "      <td>Steve</td>\n",
              "      <td>Patterson</td>\n",
              "      <td>Female</td>\n",
              "      <td>latasha46@example.net</td>\n",
              "      <td>001-865-478-5157</td>\n",
              "      <td>1932-04-29</td>\n",
              "      <td>Barrister</td>\n",
              "    </tr>\n",
              "    <tr>\n",
              "      <th>97</th>\n",
              "      <td>98</td>\n",
              "      <td>2fEc528aFAF0b69</td>\n",
              "      <td>Wesley</td>\n",
              "      <td>Bray</td>\n",
              "      <td>Male</td>\n",
              "      <td>regina11@example.org</td>\n",
              "      <td>995-542-3004x76800</td>\n",
              "      <td>1994-12-28</td>\n",
              "      <td>Police officer</td>\n",
              "    </tr>\n",
              "    <tr>\n",
              "      <th>98</th>\n",
              "      <td>99</td>\n",
              "      <td>Adc7ad9B6e4A1Fe</td>\n",
              "      <td>Summer</td>\n",
              "      <td>Oconnell</td>\n",
              "      <td>Female</td>\n",
              "      <td>alexiscantrell@example.org</td>\n",
              "      <td>001-273-685-6932x092</td>\n",
              "      <td>2012-04-12</td>\n",
              "      <td>Broadcast journalist</td>\n",
              "    </tr>\n",
              "    <tr>\n",
              "      <th>99</th>\n",
              "      <td>100</td>\n",
              "      <td>b8D0aD3490FC7e1</td>\n",
              "      <td>Mariah</td>\n",
              "      <td>Bernard</td>\n",
              "      <td>Male</td>\n",
              "      <td>pcopeland@example.org</td>\n",
              "      <td>(341)594-6554x44657</td>\n",
              "      <td>2016-11-15</td>\n",
              "      <td>IT sales professional</td>\n",
              "    </tr>\n",
              "  </tbody>\n",
              "</table>\n",
              "<p>100 rows × 9 columns</p>\n",
              "</div>\n",
              "    <div class=\"colab-df-buttons\">\n",
              "\n",
              "  <div class=\"colab-df-container\">\n",
              "    <button class=\"colab-df-convert\" onclick=\"convertToInteractive('df-1db481b2-97fc-43f9-93c6-5f82f1b6bab7')\"\n",
              "            title=\"Convert this dataframe to an interactive table.\"\n",
              "            style=\"display:none;\">\n",
              "\n",
              "  <svg xmlns=\"http://www.w3.org/2000/svg\" height=\"24px\" viewBox=\"0 -960 960 960\">\n",
              "    <path d=\"M120-120v-720h720v720H120Zm60-500h600v-160H180v160Zm220 220h160v-160H400v160Zm0 220h160v-160H400v160ZM180-400h160v-160H180v160Zm440 0h160v-160H620v160ZM180-180h160v-160H180v160Zm440 0h160v-160H620v160Z\"/>\n",
              "  </svg>\n",
              "    </button>\n",
              "\n",
              "  <style>\n",
              "    .colab-df-container {\n",
              "      display:flex;\n",
              "      gap: 12px;\n",
              "    }\n",
              "\n",
              "    .colab-df-convert {\n",
              "      background-color: #E8F0FE;\n",
              "      border: none;\n",
              "      border-radius: 50%;\n",
              "      cursor: pointer;\n",
              "      display: none;\n",
              "      fill: #1967D2;\n",
              "      height: 32px;\n",
              "      padding: 0 0 0 0;\n",
              "      width: 32px;\n",
              "    }\n",
              "\n",
              "    .colab-df-convert:hover {\n",
              "      background-color: #E2EBFA;\n",
              "      box-shadow: 0px 1px 2px rgba(60, 64, 67, 0.3), 0px 1px 3px 1px rgba(60, 64, 67, 0.15);\n",
              "      fill: #174EA6;\n",
              "    }\n",
              "\n",
              "    .colab-df-buttons div {\n",
              "      margin-bottom: 4px;\n",
              "    }\n",
              "\n",
              "    [theme=dark] .colab-df-convert {\n",
              "      background-color: #3B4455;\n",
              "      fill: #D2E3FC;\n",
              "    }\n",
              "\n",
              "    [theme=dark] .colab-df-convert:hover {\n",
              "      background-color: #434B5C;\n",
              "      box-shadow: 0px 1px 3px 1px rgba(0, 0, 0, 0.15);\n",
              "      filter: drop-shadow(0px 1px 2px rgba(0, 0, 0, 0.3));\n",
              "      fill: #FFFFFF;\n",
              "    }\n",
              "  </style>\n",
              "\n",
              "    <script>\n",
              "      const buttonEl =\n",
              "        document.querySelector('#df-1db481b2-97fc-43f9-93c6-5f82f1b6bab7 button.colab-df-convert');\n",
              "      buttonEl.style.display =\n",
              "        google.colab.kernel.accessAllowed ? 'block' : 'none';\n",
              "\n",
              "      async function convertToInteractive(key) {\n",
              "        const element = document.querySelector('#df-1db481b2-97fc-43f9-93c6-5f82f1b6bab7');\n",
              "        const dataTable =\n",
              "          await google.colab.kernel.invokeFunction('convertToInteractive',\n",
              "                                                    [key], {});\n",
              "        if (!dataTable) return;\n",
              "\n",
              "        const docLinkHtml = 'Like what you see? Visit the ' +\n",
              "          '<a target=\"_blank\" href=https://colab.research.google.com/notebooks/data_table.ipynb>data table notebook</a>'\n",
              "          + ' to learn more about interactive tables.';\n",
              "        element.innerHTML = '';\n",
              "        dataTable['output_type'] = 'display_data';\n",
              "        await google.colab.output.renderOutput(dataTable, element);\n",
              "        const docLink = document.createElement('div');\n",
              "        docLink.innerHTML = docLinkHtml;\n",
              "        element.appendChild(docLink);\n",
              "      }\n",
              "    </script>\n",
              "  </div>\n",
              "\n",
              "\n",
              "<div id=\"df-ab3a8ee4-a040-408d-83f9-32a84f002f24\">\n",
              "  <button class=\"colab-df-quickchart\" onclick=\"quickchart('df-ab3a8ee4-a040-408d-83f9-32a84f002f24')\"\n",
              "            title=\"Suggest charts\"\n",
              "            style=\"display:none;\">\n",
              "\n",
              "<svg xmlns=\"http://www.w3.org/2000/svg\" height=\"24px\"viewBox=\"0 0 24 24\"\n",
              "     width=\"24px\">\n",
              "    <g>\n",
              "        <path d=\"M19 3H5c-1.1 0-2 .9-2 2v14c0 1.1.9 2 2 2h14c1.1 0 2-.9 2-2V5c0-1.1-.9-2-2-2zM9 17H7v-7h2v7zm4 0h-2V7h2v10zm4 0h-2v-4h2v4z\"/>\n",
              "    </g>\n",
              "</svg>\n",
              "  </button>\n",
              "\n",
              "<style>\n",
              "  .colab-df-quickchart {\n",
              "      --bg-color: #E8F0FE;\n",
              "      --fill-color: #1967D2;\n",
              "      --hover-bg-color: #E2EBFA;\n",
              "      --hover-fill-color: #174EA6;\n",
              "      --disabled-fill-color: #AAA;\n",
              "      --disabled-bg-color: #DDD;\n",
              "  }\n",
              "\n",
              "  [theme=dark] .colab-df-quickchart {\n",
              "      --bg-color: #3B4455;\n",
              "      --fill-color: #D2E3FC;\n",
              "      --hover-bg-color: #434B5C;\n",
              "      --hover-fill-color: #FFFFFF;\n",
              "      --disabled-bg-color: #3B4455;\n",
              "      --disabled-fill-color: #666;\n",
              "  }\n",
              "\n",
              "  .colab-df-quickchart {\n",
              "    background-color: var(--bg-color);\n",
              "    border: none;\n",
              "    border-radius: 50%;\n",
              "    cursor: pointer;\n",
              "    display: none;\n",
              "    fill: var(--fill-color);\n",
              "    height: 32px;\n",
              "    padding: 0;\n",
              "    width: 32px;\n",
              "  }\n",
              "\n",
              "  .colab-df-quickchart:hover {\n",
              "    background-color: var(--hover-bg-color);\n",
              "    box-shadow: 0 1px 2px rgba(60, 64, 67, 0.3), 0 1px 3px 1px rgba(60, 64, 67, 0.15);\n",
              "    fill: var(--button-hover-fill-color);\n",
              "  }\n",
              "\n",
              "  .colab-df-quickchart-complete:disabled,\n",
              "  .colab-df-quickchart-complete:disabled:hover {\n",
              "    background-color: var(--disabled-bg-color);\n",
              "    fill: var(--disabled-fill-color);\n",
              "    box-shadow: none;\n",
              "  }\n",
              "\n",
              "  .colab-df-spinner {\n",
              "    border: 2px solid var(--fill-color);\n",
              "    border-color: transparent;\n",
              "    border-bottom-color: var(--fill-color);\n",
              "    animation:\n",
              "      spin 1s steps(1) infinite;\n",
              "  }\n",
              "\n",
              "  @keyframes spin {\n",
              "    0% {\n",
              "      border-color: transparent;\n",
              "      border-bottom-color: var(--fill-color);\n",
              "      border-left-color: var(--fill-color);\n",
              "    }\n",
              "    20% {\n",
              "      border-color: transparent;\n",
              "      border-left-color: var(--fill-color);\n",
              "      border-top-color: var(--fill-color);\n",
              "    }\n",
              "    30% {\n",
              "      border-color: transparent;\n",
              "      border-left-color: var(--fill-color);\n",
              "      border-top-color: var(--fill-color);\n",
              "      border-right-color: var(--fill-color);\n",
              "    }\n",
              "    40% {\n",
              "      border-color: transparent;\n",
              "      border-right-color: var(--fill-color);\n",
              "      border-top-color: var(--fill-color);\n",
              "    }\n",
              "    60% {\n",
              "      border-color: transparent;\n",
              "      border-right-color: var(--fill-color);\n",
              "    }\n",
              "    80% {\n",
              "      border-color: transparent;\n",
              "      border-right-color: var(--fill-color);\n",
              "      border-bottom-color: var(--fill-color);\n",
              "    }\n",
              "    90% {\n",
              "      border-color: transparent;\n",
              "      border-bottom-color: var(--fill-color);\n",
              "    }\n",
              "  }\n",
              "</style>\n",
              "\n",
              "  <script>\n",
              "    async function quickchart(key) {\n",
              "      const quickchartButtonEl =\n",
              "        document.querySelector('#' + key + ' button');\n",
              "      quickchartButtonEl.disabled = true;  // To prevent multiple clicks.\n",
              "      quickchartButtonEl.classList.add('colab-df-spinner');\n",
              "      try {\n",
              "        const charts = await google.colab.kernel.invokeFunction(\n",
              "            'suggestCharts', [key], {});\n",
              "      } catch (error) {\n",
              "        console.error('Error during call to suggestCharts:', error);\n",
              "      }\n",
              "      quickchartButtonEl.classList.remove('colab-df-spinner');\n",
              "      quickchartButtonEl.classList.add('colab-df-quickchart-complete');\n",
              "    }\n",
              "    (() => {\n",
              "      let quickchartButtonEl =\n",
              "        document.querySelector('#df-ab3a8ee4-a040-408d-83f9-32a84f002f24 button');\n",
              "      quickchartButtonEl.style.display =\n",
              "        google.colab.kernel.accessAllowed ? 'block' : 'none';\n",
              "    })();\n",
              "  </script>\n",
              "</div>\n",
              "\n",
              "    </div>\n",
              "  </div>\n"
            ],
            "application/vnd.google.colaboratory.intrinsic+json": {
              "type": "dataframe",
              "summary": "{\n  \"name\": \"pd\",\n  \"rows\": 100,\n  \"fields\": [\n    {\n      \"column\": \"Index\",\n      \"properties\": {\n        \"dtype\": \"number\",\n        \"std\": 29,\n        \"min\": 1,\n        \"max\": 100,\n        \"num_unique_values\": 100,\n        \"samples\": [\n          84,\n          54,\n          71\n        ],\n        \"semantic_type\": \"\",\n        \"description\": \"\"\n      }\n    },\n    {\n      \"column\": \"User Id\",\n      \"properties\": {\n        \"dtype\": \"string\",\n        \"num_unique_values\": 100,\n        \"samples\": [\n          \"bff9853aFAeF772\",\n          \"D3Fa0220dDE4d36\",\n          \"6a53a8D41dDF6de\"\n        ],\n        \"semantic_type\": \"\",\n        \"description\": \"\"\n      }\n    },\n    {\n      \"column\": \"First Name\",\n      \"properties\": {\n        \"dtype\": \"string\",\n        \"num_unique_values\": 94,\n        \"samples\": [\n          \"Willie\",\n          \"Randy\",\n          \"Fred\"\n        ],\n        \"semantic_type\": \"\",\n        \"description\": \"\"\n      }\n    },\n    {\n      \"column\": \"Last Name\",\n      \"properties\": {\n        \"dtype\": \"string\",\n        \"num_unique_values\": 95,\n        \"samples\": [\n          \"Benton\",\n          \"Barnes\",\n          \"Cunningham\"\n        ],\n        \"semantic_type\": \"\",\n        \"description\": \"\"\n      }\n    },\n    {\n      \"column\": \"Sex\",\n      \"properties\": {\n        \"dtype\": \"category\",\n        \"num_unique_values\": 2,\n        \"samples\": [\n          \"Female\",\n          \"Male\"\n        ],\n        \"semantic_type\": \"\",\n        \"description\": \"\"\n      }\n    },\n    {\n      \"column\": \"Email\",\n      \"properties\": {\n        \"dtype\": \"string\",\n        \"num_unique_values\": 100,\n        \"samples\": [\n          \"nixonvanessa@example.net\",\n          \"roberto29@example.com\"\n        ],\n        \"semantic_type\": \"\",\n        \"description\": \"\"\n      }\n    },\n    {\n      \"column\": \"Phone\",\n      \"properties\": {\n        \"dtype\": \"string\",\n        \"num_unique_values\": 100,\n        \"samples\": [\n          \"001-834-660-8312x9864\",\n          \"(655)887-2040x37888\"\n        ],\n        \"semantic_type\": \"\",\n        \"description\": \"\"\n      }\n    },\n    {\n      \"column\": \"Date of birth\",\n      \"properties\": {\n        \"dtype\": \"object\",\n        \"num_unique_values\": 100,\n        \"samples\": [\n          \"1961-11-11\",\n          \"1908-11-17\"\n        ],\n        \"semantic_type\": \"\",\n        \"description\": \"\"\n      }\n    },\n    {\n      \"column\": \"Job Title\",\n      \"properties\": {\n        \"dtype\": \"string\",\n        \"num_unique_values\": 91,\n        \"samples\": [\n          \"Management consultant\",\n          \"Outdoor activities/education manager\"\n        ],\n        \"semantic_type\": \"\",\n        \"description\": \"\"\n      }\n    }\n  ]\n}"
            }
          },
          "metadata": {},
          "execution_count": 22
        }
      ]
    },
    {
      "cell_type": "markdown",
      "source": [],
      "metadata": {
        "id": "jxHKeW90c1kh"
      }
    },
    {
      "cell_type": "markdown",
      "source": [],
      "metadata": {
        "id": "g7JTWZeAZtxo"
      }
    },
    {
      "cell_type": "markdown",
      "source": [
        "# New Section"
      ],
      "metadata": {
        "id": "DdP0D9AxcfiA"
      }
    },
    {
      "cell_type": "code",
      "source": [],
      "metadata": {
        "colab": {
          "base_uri": "https://localhost:8080/",
          "height": 405
        },
        "id": "BpePIfuVZoQW",
        "outputId": "1bd63fa7-7224-4c7e-ff20-604c2138cefb"
      },
      "execution_count": 19,
      "outputs": [
        {
          "output_type": "error",
          "ename": "ModuleNotFoundError",
          "evalue": "No module named 'faker'",
          "traceback": [
            "\u001b[0;31m---------------------------------------------------------------------------\u001b[0m",
            "\u001b[0;31mModuleNotFoundError\u001b[0m                       Traceback (most recent call last)",
            "\u001b[0;32m<ipython-input-19-9d849ee75974>\u001b[0m in \u001b[0;36m<cell line: 3>\u001b[0;34m()\u001b[0m\n\u001b[1;32m      1\u001b[0m \u001b[0;32mimport\u001b[0m \u001b[0mpandas\u001b[0m \u001b[0;32mas\u001b[0m \u001b[0mpd\u001b[0m\u001b[0;34m\u001b[0m\u001b[0;34m\u001b[0m\u001b[0m\n\u001b[1;32m      2\u001b[0m \u001b[0;32mimport\u001b[0m \u001b[0mnumpy\u001b[0m \u001b[0;32mas\u001b[0m \u001b[0mnp\u001b[0m\u001b[0;34m\u001b[0m\u001b[0;34m\u001b[0m\u001b[0m\n\u001b[0;32m----> 3\u001b[0;31m \u001b[0;32mfrom\u001b[0m \u001b[0mfaker\u001b[0m \u001b[0;32mimport\u001b[0m \u001b[0mFaker\u001b[0m\u001b[0;34m\u001b[0m\u001b[0;34m\u001b[0m\u001b[0m\n\u001b[0m\u001b[1;32m      4\u001b[0m \u001b[0;32mimport\u001b[0m \u001b[0mrandom\u001b[0m\u001b[0;34m\u001b[0m\u001b[0;34m\u001b[0m\u001b[0m\n\u001b[1;32m      5\u001b[0m \u001b[0;32mfrom\u001b[0m \u001b[0mdatetime\u001b[0m \u001b[0;32mimport\u001b[0m \u001b[0mdatetime\u001b[0m\u001b[0;34m,\u001b[0m \u001b[0mtimedelta\u001b[0m\u001b[0;34m\u001b[0m\u001b[0;34m\u001b[0m\u001b[0m\n",
            "\u001b[0;31mModuleNotFoundError\u001b[0m: No module named 'faker'",
            "",
            "\u001b[0;31m---------------------------------------------------------------------------\u001b[0;32m\nNOTE: If your import is failing due to a missing package, you can\nmanually install dependencies using either !pip or !apt.\n\nTo view examples of installing some common dependencies, click the\n\"Open Examples\" button below.\n\u001b[0;31m---------------------------------------------------------------------------\u001b[0m\n"
          ],
          "errorDetails": {
            "actions": [
              {
                "action": "open_url",
                "actionText": "Open Examples",
                "url": "/notebooks/snippets/importing_libraries.ipynb"
              }
            ]
          }
        }
      ]
    }
  ]
}