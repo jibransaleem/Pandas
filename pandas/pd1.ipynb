{
  "nbformat": 4,
  "nbformat_minor": 0,
  "metadata": {
    "colab": {
      "provenance": []
    },
    "kernelspec": {
      "name": "python3",
      "display_name": "Python 3"
    },
    "language_info": {
      "name": "python"
    }
  },
  "cells": [
    {
      "cell_type": "code",
      "execution_count": 2,
      "metadata": {
        "id": "yfYOe5zww6sn"
      },
      "outputs": [],
      "source": [
        "import numpy as np\n",
        "import pandas as pd\n",
        ""
      ]
    },
    {
      "cell_type": "markdown",
      "source": [
        "A Pandas Series is a one-dimensional labeled array in Python, similar to a list or a column in a DataFrame. It can hold any data type, such as integers, floats, strings, or even Python objects. The key features of a Series are:\n",
        "\n",
        "\n",
        "Index: Every element in a Series has an associated label, called the index. If you don't provide an index, pandas will use a default integer index starting from 0.\n",
        "\n",
        "\n",
        "Data: The actual values stored in the Series. These can be of any data type, including numeric, strings, or objects."
      ],
      "metadata": {
        "id": "gRS7h1nryao1"
      }
    },
    {
      "cell_type": "markdown",
      "source": [
        "**CREATING PANDAS SERIES FROM PYTHON LIST**\n"
      ],
      "metadata": {
        "id": "rQv5FgE3zOkM"
      }
    },
    {
      "cell_type": "code",
      "source": [
        "li = [\"python\",\"javascript\",\"typescript\",\"ruby\",\"R\"]\n",
        "pd.Series(li ) # by default 0 based indexing\n",
        "pd.Series(li ,index= [\"a\",\"b\",\"c\",\"d\",\"e\"]) # dtype= object , in most of cases pandas calls string as object , like in this case"
      ],
      "metadata": {
        "colab": {
          "base_uri": "https://localhost:8080/",
          "height": 241
        },
        "id": "0obXuT_Eyed8",
        "outputId": "65967b47-b66a-4a92-f7cc-0795cd231dd8"
      },
      "execution_count": 6,
      "outputs": [
        {
          "output_type": "execute_result",
          "data": {
            "text/plain": [
              "a        python\n",
              "b    javascript\n",
              "c    typescript\n",
              "d          ruby\n",
              "e             R\n",
              "dtype: object"
            ],
            "text/html": [
              "<div>\n",
              "<style scoped>\n",
              "    .dataframe tbody tr th:only-of-type {\n",
              "        vertical-align: middle;\n",
              "    }\n",
              "\n",
              "    .dataframe tbody tr th {\n",
              "        vertical-align: top;\n",
              "    }\n",
              "\n",
              "    .dataframe thead th {\n",
              "        text-align: right;\n",
              "    }\n",
              "</style>\n",
              "<table border=\"1\" class=\"dataframe\">\n",
              "  <thead>\n",
              "    <tr style=\"text-align: right;\">\n",
              "      <th></th>\n",
              "      <th>0</th>\n",
              "    </tr>\n",
              "  </thead>\n",
              "  <tbody>\n",
              "    <tr>\n",
              "      <th>a</th>\n",
              "      <td>python</td>\n",
              "    </tr>\n",
              "    <tr>\n",
              "      <th>b</th>\n",
              "      <td>javascript</td>\n",
              "    </tr>\n",
              "    <tr>\n",
              "      <th>c</th>\n",
              "      <td>typescript</td>\n",
              "    </tr>\n",
              "    <tr>\n",
              "      <th>d</th>\n",
              "      <td>ruby</td>\n",
              "    </tr>\n",
              "    <tr>\n",
              "      <th>e</th>\n",
              "      <td>R</td>\n",
              "    </tr>\n",
              "  </tbody>\n",
              "</table>\n",
              "</div><br><label><b>dtype:</b> object</label>"
            ]
          },
          "metadata": {},
          "execution_count": 6
        }
      ]
    },
    {
      "cell_type": "code",
      "source": [
        "integers = [1,2,3,4]\n",
        "pd.Series(integers)"
      ],
      "metadata": {
        "colab": {
          "base_uri": "https://localhost:8080/",
          "height": 210
        },
        "id": "HLq51Xmj05Ct",
        "outputId": "bc3f3837-7523-4fd8-b07f-c77079f5bb1d"
      },
      "execution_count": 7,
      "outputs": [
        {
          "output_type": "execute_result",
          "data": {
            "text/plain": [
              "0    1\n",
              "1    2\n",
              "2    3\n",
              "3    4\n",
              "dtype: int64"
            ],
            "text/html": [
              "<div>\n",
              "<style scoped>\n",
              "    .dataframe tbody tr th:only-of-type {\n",
              "        vertical-align: middle;\n",
              "    }\n",
              "\n",
              "    .dataframe tbody tr th {\n",
              "        vertical-align: top;\n",
              "    }\n",
              "\n",
              "    .dataframe thead th {\n",
              "        text-align: right;\n",
              "    }\n",
              "</style>\n",
              "<table border=\"1\" class=\"dataframe\">\n",
              "  <thead>\n",
              "    <tr style=\"text-align: right;\">\n",
              "      <th></th>\n",
              "      <th>0</th>\n",
              "    </tr>\n",
              "  </thead>\n",
              "  <tbody>\n",
              "    <tr>\n",
              "      <th>0</th>\n",
              "      <td>1</td>\n",
              "    </tr>\n",
              "    <tr>\n",
              "      <th>1</th>\n",
              "      <td>2</td>\n",
              "    </tr>\n",
              "    <tr>\n",
              "      <th>2</th>\n",
              "      <td>3</td>\n",
              "    </tr>\n",
              "    <tr>\n",
              "      <th>3</th>\n",
              "      <td>4</td>\n",
              "    </tr>\n",
              "  </tbody>\n",
              "</table>\n",
              "</div><br><label><b>dtype:</b> int64</label>"
            ]
          },
          "metadata": {},
          "execution_count": 7
        }
      ]
    },
    {
      "cell_type": "code",
      "source": [
        "marks = [20,30,40,20]\n",
        "subjects = [\"maths\",\"linear algebra\",\"chem\" , \"dsp\"]\n",
        "pd.Series(marks , index = subjects)"
      ],
      "metadata": {
        "colab": {
          "base_uri": "https://localhost:8080/",
          "height": 210
        },
        "id": "lXnQcCYr1NxN",
        "outputId": "b5ed48f0-a895-4487-d05c-e27d185b0595"
      },
      "execution_count": 14,
      "outputs": [
        {
          "output_type": "execute_result",
          "data": {
            "text/plain": [
              "maths             20\n",
              "linear algebra    30\n",
              "chem              40\n",
              "dsp               20\n",
              "dtype: int64"
            ],
            "text/html": [
              "<div>\n",
              "<style scoped>\n",
              "    .dataframe tbody tr th:only-of-type {\n",
              "        vertical-align: middle;\n",
              "    }\n",
              "\n",
              "    .dataframe tbody tr th {\n",
              "        vertical-align: top;\n",
              "    }\n",
              "\n",
              "    .dataframe thead th {\n",
              "        text-align: right;\n",
              "    }\n",
              "</style>\n",
              "<table border=\"1\" class=\"dataframe\">\n",
              "  <thead>\n",
              "    <tr style=\"text-align: right;\">\n",
              "      <th></th>\n",
              "      <th>0</th>\n",
              "    </tr>\n",
              "  </thead>\n",
              "  <tbody>\n",
              "    <tr>\n",
              "      <th>maths</th>\n",
              "      <td>20</td>\n",
              "    </tr>\n",
              "    <tr>\n",
              "      <th>linear algebra</th>\n",
              "      <td>30</td>\n",
              "    </tr>\n",
              "    <tr>\n",
              "      <th>chem</th>\n",
              "      <td>40</td>\n",
              "    </tr>\n",
              "    <tr>\n",
              "      <th>dsp</th>\n",
              "      <td>20</td>\n",
              "    </tr>\n",
              "  </tbody>\n",
              "</table>\n",
              "</div><br><label><b>dtype:</b> int64</label>"
            ]
          },
          "metadata": {},
          "execution_count": 14
        }
      ]
    },
    {
      "cell_type": "markdown",
      "source": [
        "setting up a name to a series\n",
        "\n",
        "use name attribute"
      ],
      "metadata": {
        "id": "up85jFCv2DzO"
      }
    },
    {
      "cell_type": "code",
      "source": [
        "marks = [20,30,40,20]\n",
        "subjects = [\"calculus\",\"cew\",\"ct\" , \"cvfa\"]\n",
        "result = pd.Series(marks , index = subjects,name=\"Jibran k marks\",dtype=np.int8)\n",
        "print(result)"
      ],
      "metadata": {
        "colab": {
          "base_uri": "https://localhost:8080/"
        },
        "id": "jkdRElo32PFF",
        "outputId": "be04e55a-351e-4819-9af6-bb6be2c360bd"
      },
      "execution_count": 18,
      "outputs": [
        {
          "output_type": "stream",
          "name": "stdout",
          "text": [
            "calculus    20\n",
            "cew         30\n",
            "ct          40\n",
            "cvfa        20\n",
            "Name: Jibran k marks, dtype: int8\n"
          ]
        }
      ]
    }
  ]
}