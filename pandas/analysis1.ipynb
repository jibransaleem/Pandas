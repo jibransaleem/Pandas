{
  "nbformat": 4,
  "nbformat_minor": 0,
  "metadata": {
    "colab": {
      "provenance": []
    },
    "kernelspec": {
      "name": "python3",
      "display_name": "Python 3"
    },
    "language_info": {
      "name": "python"
    }
  },
  "cells": [
    {
      "cell_type": "code",
      "execution_count": 122,
      "metadata": {
        "id": "OTGUNPHIczTo"
      },
      "outputs": [],
      "source": [
        "import numpy as np\n",
        "import pandas as pd\n",
        "import time\n",
        "data = pd.read_csv(\"/content/sleep_health_lifestyle_dataset.csv\")\n",
        "\n",
        "\n",
        "# Mature = data[data['Age']>24) & data['Quality of Sleep (scale: 1-10)']>=7.5)]\n",
        "# print(f\" Quality Analysis between age Young[, -24] and Mature[24-] : {round((young.shape[0]/Mature)*100)}%\"  )"
      ]
    },
    {
      "cell_type": "code",
      "source": [
        "class Analysis:\n",
        "  def __init__(self,file_path : str):\n",
        "    self.data = pd.read_csv(file_path)\n",
        "  def Mising_value_deal(self):\n",
        "    try:\n",
        "      total_missing = data.isnull().sum().sum()\n",
        "      print(f'You have total {total_missing} missing values in your dataset! ')\n",
        "      data[data.isnull()]='No'\n",
        "    except Exception as e:\n",
        "      print(e)\n",
        "  def Categorize(self):\n",
        "    try:\n",
        "        if self.data['Sleep Duration (hours)'].isnull().sum().sum()!=0:\n",
        "          self.data [self.data['Sleep Duration (hours)'].fillna(self.data[self.data['Sleep Duration (hours)']].mean() )]\n",
        "        short = self.data['Sleep Duration (hours)']<7\n",
        "        Normal = (7<= self.data['Sleep Duration (hours)']) & (self.data['Sleep Duration (hours)']<9)\n",
        "        long =self.data['Sleep Duration (hours)']>=9\n",
        "        print(\"--------SHORT SLEEPERS ----------\")\n",
        "        print(self.data[short])\n",
        "        print(\"--------Noraml SLEEPERS ----------\")\n",
        "        print(self.data[Normal])\n",
        "        print(\"--------Long SLEEPERS ----------\")\n",
        "        print(self.data[long])\n",
        "    except Exception as e:\n",
        "        print(e)\n",
        "\n",
        "  def Sleep_effiency(self):\n",
        "    temp = self.data\n",
        "    effen = self.data['Sleep Duration (hours)']/self.data['Quality of Sleep (scale: 1-10)']\n",
        "    temp[\"Sleep_effiency\"] = effen\n",
        "    return temp\n",
        "  def Factors(self):\n",
        "    people = (self.data['Quality of Sleep (scale: 1-10)'] >= 7.5) & (self.data['Quality of Sleep (scale: 1-10)'] <= 10)\n",
        "    blood_pressure = self.data[people]['Blood Pressure (systolic/diastolic)'].dropna().value_counts().head(1).index[0]\n",
        "    heart_rate =round(self.data[people]['Heart Rate (bpm)'].mean())\n",
        "    daily_steps = round(self.data[people]['Daily Steps'].mean())\n",
        "    phy_act = round(self.data[people]['Physical Activity Level (minutes/day)'].mean())\n",
        "    stress =  round(self.data[people]['Stress Level (scale: 1-10)'].mean())\n",
        "    Bmi = self.data[people]['BMI Category'].value_counts().index[1]\n",
        "    profession = round( (self.data[people]['Occupation'].value_counts().head(1).iloc[0] / self.data['Occupation'].count())*100)\n",
        "    print(\"------------LOADING REPORT-----------\")\n",
        "    time.sleep(1)  # Delay of 1 second between prints\n",
        "    print(f\"Blood Pressure: {blood_pressure}\")\n",
        "    time.sleep(1)\n",
        "    print(f\"Heart Rate: {heart_rate} bpm\")\n",
        "    time.sleep(1)\n",
        "    print(f\"Daily Steps: {daily_steps} steps\")\n",
        "    time.sleep(1)\n",
        "    print(f\"Physical Activity Level: {phy_act} minutes/day\")\n",
        "    time.sleep(1)\n",
        "    print(f\"Stress Level: {stress}\")\n",
        "    time.sleep(1)\n",
        "    print(f\"Normal BMI Count: {Bmi}\")\n",
        "    time.sleep(1)\n",
        "    print(f\"Most Common Profession: {self.data[people]['Occupation'].value_counts().head(1).index[0]} ({profession}% of total)\")\n",
        "    time.sleep(1)\n",
        "    return\n",
        "  def Age_analysis(self):\n",
        "    young = self.data[(self.data['Age']<=24) & (self.data['Quality of Sleep (scale: 1-10)']>=7.5)]\n",
        "    Mature = self.data[(self.data['Age']>24) & (self.data['Quality of Sleep (scale: 1-10)']>=7.5)]\n",
        "    print(f\"Sleep Quality Analysis between age Young people and Mature people : {round((young.shape[0]/Mature.shape[0])*100)}%\"  )\n",
        "    return"
      ],
      "metadata": {
        "id": "POB0Opm0dKvQ"
      },
      "execution_count": 123,
      "outputs": []
    },
    {
      "cell_type": "code",
      "source": [
        "file_path = \"/content/sleep_health_lifestyle_dataset.csv\"\n",
        "analysis = Analysis(file_path)\n",
        "\n",
        "#Call the functions\n",
        "# analysis.Mising_value_deal()  # Handle missing values\n",
        "# analysis.Categorize()  # Categorize people based on sleep duration\n",
        "# analysis.Sleep_effiency()  # Calculate sleep efficiency\n",
        "analysis.Factors()  # Print factors based on sleep quality\n",
        "\n",
        "#analysis.Age_analysis()  # Perform age-based sleep quality analysis"
      ],
      "metadata": {
        "colab": {
          "base_uri": "https://localhost:8080/"
        },
        "id": "dBiGGqgk8gjI",
        "outputId": "a9d34b19-09bb-4373-cfc6-f637ce27602e"
      },
      "execution_count": 125,
      "outputs": [
        {
          "output_type": "stream",
          "name": "stdout",
          "text": [
            "------------LOADING REPORT-----------\n",
            "Blood Pressure: 113/63\n",
            "Heart Rate: 77 bpm\n",
            "Daily Steps: 10465 steps\n",
            "Physical Activity Level: 64 minutes/day\n",
            "Stress Level: 5\n",
            "Normal BMI Count: Normal\n",
            "Most Common Profession: Student (8% of total)\n"
          ]
        }
      ]
    },
    {
      "cell_type": "code",
      "source": [],
      "metadata": {
        "id": "EBoVtixri60s"
      },
      "execution_count": 73,
      "outputs": []
    }
  ]
}